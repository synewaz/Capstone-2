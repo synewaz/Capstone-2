{
 "cells": [
  {
   "cell_type": "markdown",
   "id": "62c30242",
   "metadata": {},
   "source": [
    "**Import Necessary libraries**"
   ]
  },
  {
   "cell_type": "code",
   "execution_count": 1,
   "id": "d26de3e6",
   "metadata": {},
   "outputs": [],
   "source": [
    "import os\n",
    "import math \n",
    "import numpy as np\n",
    "import pandas as pd\n",
    "import matplotlib.pyplot as plt\n",
    "import seaborn as sns\n",
    "\n",
    "#ignore warning messages to ensure clean outputs\n",
    "import warnings\n",
    "warnings.filterwarnings('ignore')"
   ]
  },
  {
   "cell_type": "markdown",
   "id": "b85f151a",
   "metadata": {},
   "source": [
    "**Data Preparation and Feature Selection**"
   ]
  },
  {
   "cell_type": "code",
   "execution_count": 2,
   "id": "c805819b",
   "metadata": {},
   "outputs": [
    {
     "data": {
      "text/html": [
       "<div>\n",
       "<style scoped>\n",
       "    .dataframe tbody tr th:only-of-type {\n",
       "        vertical-align: middle;\n",
       "    }\n",
       "\n",
       "    .dataframe tbody tr th {\n",
       "        vertical-align: top;\n",
       "    }\n",
       "\n",
       "    .dataframe thead th {\n",
       "        text-align: right;\n",
       "    }\n",
       "</style>\n",
       "<table border=\"1\" class=\"dataframe\">\n",
       "  <thead>\n",
       "    <tr style=\"text-align: right;\">\n",
       "      <th></th>\n",
       "      <th>Name</th>\n",
       "      <th>Platform</th>\n",
       "      <th>Year</th>\n",
       "      <th>Genre</th>\n",
       "      <th>Publisher</th>\n",
       "      <th>NA_ Sales</th>\n",
       "      <th>EU_Sales</th>\n",
       "      <th>JP_Sales</th>\n",
       "      <th>Other_Sales</th>\n",
       "      <th>Global_Sales</th>\n",
       "      <th>Critic_Score</th>\n",
       "      <th>User_Score</th>\n",
       "      <th>Rating</th>\n",
       "      <th>Total_Sales</th>\n",
       "    </tr>\n",
       "  </thead>\n",
       "  <tbody>\n",
       "    <tr>\n",
       "      <th>0</th>\n",
       "      <td>Wii Sports</td>\n",
       "      <td>Wii</td>\n",
       "      <td>2006</td>\n",
       "      <td>Sports</td>\n",
       "      <td>Nintendo</td>\n",
       "      <td>41.49</td>\n",
       "      <td>29.02</td>\n",
       "      <td>3.77</td>\n",
       "      <td>8.46</td>\n",
       "      <td>82.74</td>\n",
       "      <td>76.0</td>\n",
       "      <td>8.0</td>\n",
       "      <td>E</td>\n",
       "      <td>82.74</td>\n",
       "    </tr>\n",
       "    <tr>\n",
       "      <th>1</th>\n",
       "      <td>Mario Kart Wii</td>\n",
       "      <td>Wii</td>\n",
       "      <td>2008</td>\n",
       "      <td>Racing</td>\n",
       "      <td>Nintendo</td>\n",
       "      <td>15.85</td>\n",
       "      <td>12.88</td>\n",
       "      <td>3.79</td>\n",
       "      <td>3.31</td>\n",
       "      <td>35.82</td>\n",
       "      <td>82.0</td>\n",
       "      <td>8.3</td>\n",
       "      <td>E</td>\n",
       "      <td>35.83</td>\n",
       "    </tr>\n",
       "    <tr>\n",
       "      <th>2</th>\n",
       "      <td>Wii Sports Resort</td>\n",
       "      <td>Wii</td>\n",
       "      <td>2009</td>\n",
       "      <td>Sports</td>\n",
       "      <td>Nintendo</td>\n",
       "      <td>15.75</td>\n",
       "      <td>11.01</td>\n",
       "      <td>3.28</td>\n",
       "      <td>2.96</td>\n",
       "      <td>33.00</td>\n",
       "      <td>80.0</td>\n",
       "      <td>8.0</td>\n",
       "      <td>E</td>\n",
       "      <td>33.00</td>\n",
       "    </tr>\n",
       "    <tr>\n",
       "      <th>3</th>\n",
       "      <td>New Super Mario Bros.</td>\n",
       "      <td>DS</td>\n",
       "      <td>2006</td>\n",
       "      <td>Platform</td>\n",
       "      <td>Nintendo</td>\n",
       "      <td>11.38</td>\n",
       "      <td>9.23</td>\n",
       "      <td>6.50</td>\n",
       "      <td>2.90</td>\n",
       "      <td>30.01</td>\n",
       "      <td>89.0</td>\n",
       "      <td>8.5</td>\n",
       "      <td>E</td>\n",
       "      <td>30.01</td>\n",
       "    </tr>\n",
       "    <tr>\n",
       "      <th>4</th>\n",
       "      <td>Wii Play</td>\n",
       "      <td>Wii</td>\n",
       "      <td>2006</td>\n",
       "      <td>Misc</td>\n",
       "      <td>Nintendo</td>\n",
       "      <td>14.03</td>\n",
       "      <td>9.20</td>\n",
       "      <td>2.93</td>\n",
       "      <td>2.85</td>\n",
       "      <td>29.02</td>\n",
       "      <td>58.0</td>\n",
       "      <td>6.6</td>\n",
       "      <td>E</td>\n",
       "      <td>29.01</td>\n",
       "    </tr>\n",
       "  </tbody>\n",
       "</table>\n",
       "</div>"
      ],
      "text/plain": [
       "                    Name Platform  Year     Genre Publisher  NA_ Sales  \\\n",
       "0             Wii Sports      Wii  2006    Sports  Nintendo      41.49   \n",
       "1         Mario Kart Wii      Wii  2008    Racing  Nintendo      15.85   \n",
       "2      Wii Sports Resort      Wii  2009    Sports  Nintendo      15.75   \n",
       "3  New Super Mario Bros.       DS  2006  Platform  Nintendo      11.38   \n",
       "4               Wii Play      Wii  2006      Misc  Nintendo      14.03   \n",
       "\n",
       "   EU_Sales  JP_Sales  Other_Sales  Global_Sales  Critic_Score  User_Score  \\\n",
       "0     29.02      3.77         8.46         82.74          76.0         8.0   \n",
       "1     12.88      3.79         3.31         35.82          82.0         8.3   \n",
       "2     11.01      3.28         2.96         33.00          80.0         8.0   \n",
       "3      9.23      6.50         2.90         30.01          89.0         8.5   \n",
       "4      9.20      2.93         2.85         29.02          58.0         6.6   \n",
       "\n",
       "  Rating  Total_Sales  \n",
       "0      E        82.74  \n",
       "1      E        35.83  \n",
       "2      E        33.00  \n",
       "3      E        30.01  \n",
       "4      E        29.01  "
      ]
     },
     "execution_count": 2,
     "metadata": {},
     "output_type": "execute_result"
    }
   ],
   "source": [
    "df = pd.read_csv('cleaned_data_videoGames.csv')\n",
    "df.head()"
   ]
  },
  {
   "cell_type": "code",
   "execution_count": 3,
   "id": "870ba8ea",
   "metadata": {},
   "outputs": [
    {
     "name": "stdout",
     "output_type": "stream",
     "text": [
      "<class 'pandas.core.frame.DataFrame'>\n",
      "RangeIndex: 1351 entries, 0 to 1350\n",
      "Data columns (total 14 columns):\n",
      " #   Column        Non-Null Count  Dtype  \n",
      "---  ------        --------------  -----  \n",
      " 0   Name          1351 non-null   object \n",
      " 1   Platform      1351 non-null   object \n",
      " 2   Year          1351 non-null   int64  \n",
      " 3   Genre         1351 non-null   object \n",
      " 4   Publisher     1351 non-null   object \n",
      " 5   NA_ Sales     1351 non-null   float64\n",
      " 6   EU_Sales      1351 non-null   float64\n",
      " 7   JP_Sales      1351 non-null   float64\n",
      " 8   Other_Sales   1351 non-null   float64\n",
      " 9   Global_Sales  1351 non-null   float64\n",
      " 10  Critic_Score  1351 non-null   float64\n",
      " 11  User_Score    1351 non-null   float64\n",
      " 12  Rating        1350 non-null   object \n",
      " 13  Total_Sales   1351 non-null   float64\n",
      "dtypes: float64(8), int64(1), object(5)\n",
      "memory usage: 147.9+ KB\n"
     ]
    }
   ],
   "source": [
    "df.info()"
   ]
  },
  {
   "cell_type": "code",
   "execution_count": 4,
   "id": "b95dda32",
   "metadata": {},
   "outputs": [
    {
     "name": "stdout",
     "output_type": "stream",
     "text": [
      "Name            0\n",
      "Platform        0\n",
      "Year            0\n",
      "Genre           0\n",
      "Publisher       0\n",
      "NA_ Sales       0\n",
      "EU_Sales        0\n",
      "JP_Sales        0\n",
      "Other_Sales     0\n",
      "Global_Sales    0\n",
      "Critic_Score    0\n",
      "User_Score      0\n",
      "Rating          1\n",
      "Total_Sales     0\n",
      "dtype: int64\n"
     ]
    }
   ],
   "source": [
    "# Check for missing data\n",
    "print(df.isnull().sum())\n"
   ]
  },
  {
   "cell_type": "markdown",
   "id": "04c77e4c",
   "metadata": {},
   "source": [
    "**Feature Engineering**"
   ]
  },
  {
   "cell_type": "code",
   "execution_count": 5,
   "id": "9a857c81",
   "metadata": {},
   "outputs": [],
   "source": [
    "# Creating a new feature \"Total_Critic_Score\" by adding Critic_Score and User_Score\n",
    "df['Total_Critic_Score'] = df['Critic_Score'] + df['User_Score']\n",
    "\n",
    "# Creating a new feature \"Sales_Per_Year\" by dividing Global_Sales by Year\n",
    "df['Sales_Per_Year'] = df['Global_Sales'] / df['Year']\n"
   ]
  },
  {
   "cell_type": "code",
   "execution_count": 6,
   "id": "1c3d9237",
   "metadata": {},
   "outputs": [],
   "source": [
    "from sklearn.preprocessing import LabelEncoder\n",
    "le = LabelEncoder()\n",
    "df['Platform_Encoded']=le.fit_transform(df['Platform'])\n",
    "df['Genre_Encoded'] = le.fit_transform(df['Genre'])\n",
    "df['Rating_Encoded'] = le.fit_transform(df['Rating'])"
   ]
  },
  {
   "cell_type": "code",
   "execution_count": 7,
   "id": "c66507a9",
   "metadata": {},
   "outputs": [
    {
     "data": {
      "text/html": [
       "<div>\n",
       "<style scoped>\n",
       "    .dataframe tbody tr th:only-of-type {\n",
       "        vertical-align: middle;\n",
       "    }\n",
       "\n",
       "    .dataframe tbody tr th {\n",
       "        vertical-align: top;\n",
       "    }\n",
       "\n",
       "    .dataframe thead th {\n",
       "        text-align: right;\n",
       "    }\n",
       "</style>\n",
       "<table border=\"1\" class=\"dataframe\">\n",
       "  <thead>\n",
       "    <tr style=\"text-align: right;\">\n",
       "      <th></th>\n",
       "      <th>Name</th>\n",
       "      <th>Platform</th>\n",
       "      <th>Year</th>\n",
       "      <th>Genre</th>\n",
       "      <th>Publisher</th>\n",
       "      <th>NA_ Sales</th>\n",
       "      <th>EU_Sales</th>\n",
       "      <th>JP_Sales</th>\n",
       "      <th>Other_Sales</th>\n",
       "      <th>Global_Sales</th>\n",
       "      <th>Critic_Score</th>\n",
       "      <th>User_Score</th>\n",
       "      <th>Rating</th>\n",
       "      <th>Total_Sales</th>\n",
       "      <th>Total_Critic_Score</th>\n",
       "      <th>Sales_Per_Year</th>\n",
       "      <th>Platform_Encoded</th>\n",
       "      <th>Genre_Encoded</th>\n",
       "      <th>Rating_Encoded</th>\n",
       "    </tr>\n",
       "  </thead>\n",
       "  <tbody>\n",
       "    <tr>\n",
       "      <th>0</th>\n",
       "      <td>Wii Sports</td>\n",
       "      <td>Wii</td>\n",
       "      <td>2006</td>\n",
       "      <td>Sports</td>\n",
       "      <td>Nintendo</td>\n",
       "      <td>41.49</td>\n",
       "      <td>29.02</td>\n",
       "      <td>3.77</td>\n",
       "      <td>8.46</td>\n",
       "      <td>82.74</td>\n",
       "      <td>76.0</td>\n",
       "      <td>8.0</td>\n",
       "      <td>E</td>\n",
       "      <td>82.74</td>\n",
       "      <td>84.0</td>\n",
       "      <td>0.041246</td>\n",
       "      <td>14</td>\n",
       "      <td>10</td>\n",
       "      <td>0</td>\n",
       "    </tr>\n",
       "    <tr>\n",
       "      <th>1</th>\n",
       "      <td>Mario Kart Wii</td>\n",
       "      <td>Wii</td>\n",
       "      <td>2008</td>\n",
       "      <td>Racing</td>\n",
       "      <td>Nintendo</td>\n",
       "      <td>15.85</td>\n",
       "      <td>12.88</td>\n",
       "      <td>3.79</td>\n",
       "      <td>3.31</td>\n",
       "      <td>35.82</td>\n",
       "      <td>82.0</td>\n",
       "      <td>8.3</td>\n",
       "      <td>E</td>\n",
       "      <td>35.83</td>\n",
       "      <td>90.3</td>\n",
       "      <td>0.017839</td>\n",
       "      <td>14</td>\n",
       "      <td>6</td>\n",
       "      <td>0</td>\n",
       "    </tr>\n",
       "    <tr>\n",
       "      <th>2</th>\n",
       "      <td>Wii Sports Resort</td>\n",
       "      <td>Wii</td>\n",
       "      <td>2009</td>\n",
       "      <td>Sports</td>\n",
       "      <td>Nintendo</td>\n",
       "      <td>15.75</td>\n",
       "      <td>11.01</td>\n",
       "      <td>3.28</td>\n",
       "      <td>2.96</td>\n",
       "      <td>33.00</td>\n",
       "      <td>80.0</td>\n",
       "      <td>8.0</td>\n",
       "      <td>E</td>\n",
       "      <td>33.00</td>\n",
       "      <td>88.0</td>\n",
       "      <td>0.016426</td>\n",
       "      <td>14</td>\n",
       "      <td>10</td>\n",
       "      <td>0</td>\n",
       "    </tr>\n",
       "    <tr>\n",
       "      <th>3</th>\n",
       "      <td>New Super Mario Bros.</td>\n",
       "      <td>DS</td>\n",
       "      <td>2006</td>\n",
       "      <td>Platform</td>\n",
       "      <td>Nintendo</td>\n",
       "      <td>11.38</td>\n",
       "      <td>9.23</td>\n",
       "      <td>6.50</td>\n",
       "      <td>2.90</td>\n",
       "      <td>30.01</td>\n",
       "      <td>89.0</td>\n",
       "      <td>8.5</td>\n",
       "      <td>E</td>\n",
       "      <td>30.01</td>\n",
       "      <td>97.5</td>\n",
       "      <td>0.014960</td>\n",
       "      <td>2</td>\n",
       "      <td>4</td>\n",
       "      <td>0</td>\n",
       "    </tr>\n",
       "    <tr>\n",
       "      <th>4</th>\n",
       "      <td>Wii Play</td>\n",
       "      <td>Wii</td>\n",
       "      <td>2006</td>\n",
       "      <td>Misc</td>\n",
       "      <td>Nintendo</td>\n",
       "      <td>14.03</td>\n",
       "      <td>9.20</td>\n",
       "      <td>2.93</td>\n",
       "      <td>2.85</td>\n",
       "      <td>29.02</td>\n",
       "      <td>58.0</td>\n",
       "      <td>6.6</td>\n",
       "      <td>E</td>\n",
       "      <td>29.01</td>\n",
       "      <td>64.6</td>\n",
       "      <td>0.014467</td>\n",
       "      <td>14</td>\n",
       "      <td>3</td>\n",
       "      <td>0</td>\n",
       "    </tr>\n",
       "  </tbody>\n",
       "</table>\n",
       "</div>"
      ],
      "text/plain": [
       "                    Name Platform  Year     Genre Publisher  NA_ Sales  \\\n",
       "0             Wii Sports      Wii  2006    Sports  Nintendo      41.49   \n",
       "1         Mario Kart Wii      Wii  2008    Racing  Nintendo      15.85   \n",
       "2      Wii Sports Resort      Wii  2009    Sports  Nintendo      15.75   \n",
       "3  New Super Mario Bros.       DS  2006  Platform  Nintendo      11.38   \n",
       "4               Wii Play      Wii  2006      Misc  Nintendo      14.03   \n",
       "\n",
       "   EU_Sales  JP_Sales  Other_Sales  Global_Sales  Critic_Score  User_Score  \\\n",
       "0     29.02      3.77         8.46         82.74          76.0         8.0   \n",
       "1     12.88      3.79         3.31         35.82          82.0         8.3   \n",
       "2     11.01      3.28         2.96         33.00          80.0         8.0   \n",
       "3      9.23      6.50         2.90         30.01          89.0         8.5   \n",
       "4      9.20      2.93         2.85         29.02          58.0         6.6   \n",
       "\n",
       "  Rating  Total_Sales  Total_Critic_Score  Sales_Per_Year  Platform_Encoded  \\\n",
       "0      E        82.74                84.0        0.041246                14   \n",
       "1      E        35.83                90.3        0.017839                14   \n",
       "2      E        33.00                88.0        0.016426                14   \n",
       "3      E        30.01                97.5        0.014960                 2   \n",
       "4      E        29.01                64.6        0.014467                14   \n",
       "\n",
       "   Genre_Encoded  Rating_Encoded  \n",
       "0             10               0  \n",
       "1              6               0  \n",
       "2             10               0  \n",
       "3              4               0  \n",
       "4              3               0  "
      ]
     },
     "execution_count": 7,
     "metadata": {},
     "output_type": "execute_result"
    }
   ],
   "source": [
    "df.head()"
   ]
  },
  {
   "cell_type": "code",
   "execution_count": 8,
   "id": "f884e41d",
   "metadata": {},
   "outputs": [],
   "source": [
    "# Using StandardScaler to scale the numerical feature \"Global_Sales\"\n",
    "from sklearn.preprocessing import StandardScaler\n",
    "scaler = StandardScaler()\n",
    "df['Global_Sales_Scaled'] = scaler.fit_transform(df[['Global_Sales']])\n"
   ]
  },
  {
   "cell_type": "code",
   "execution_count": 9,
   "id": "f4eedd47",
   "metadata": {},
   "outputs": [
    {
     "data": {
      "text/html": [
       "<div>\n",
       "<style scoped>\n",
       "    .dataframe tbody tr th:only-of-type {\n",
       "        vertical-align: middle;\n",
       "    }\n",
       "\n",
       "    .dataframe tbody tr th {\n",
       "        vertical-align: top;\n",
       "    }\n",
       "\n",
       "    .dataframe thead th {\n",
       "        text-align: right;\n",
       "    }\n",
       "</style>\n",
       "<table border=\"1\" class=\"dataframe\">\n",
       "  <thead>\n",
       "    <tr style=\"text-align: right;\">\n",
       "      <th></th>\n",
       "      <th>Name</th>\n",
       "      <th>Platform</th>\n",
       "      <th>Year</th>\n",
       "      <th>Genre</th>\n",
       "      <th>Publisher</th>\n",
       "      <th>NA_ Sales</th>\n",
       "      <th>EU_Sales</th>\n",
       "      <th>JP_Sales</th>\n",
       "      <th>Other_Sales</th>\n",
       "      <th>Global_Sales</th>\n",
       "      <th>Critic_Score</th>\n",
       "      <th>User_Score</th>\n",
       "      <th>Rating</th>\n",
       "      <th>Total_Sales</th>\n",
       "      <th>Total_Critic_Score</th>\n",
       "      <th>Sales_Per_Year</th>\n",
       "      <th>Platform_Encoded</th>\n",
       "      <th>Genre_Encoded</th>\n",
       "      <th>Rating_Encoded</th>\n",
       "      <th>Global_Sales_Scaled</th>\n",
       "    </tr>\n",
       "  </thead>\n",
       "  <tbody>\n",
       "    <tr>\n",
       "      <th>0</th>\n",
       "      <td>Wii Sports</td>\n",
       "      <td>Wii</td>\n",
       "      <td>2006</td>\n",
       "      <td>Sports</td>\n",
       "      <td>Nintendo</td>\n",
       "      <td>41.49</td>\n",
       "      <td>29.02</td>\n",
       "      <td>3.77</td>\n",
       "      <td>8.46</td>\n",
       "      <td>82.74</td>\n",
       "      <td>76.0</td>\n",
       "      <td>8.0</td>\n",
       "      <td>E</td>\n",
       "      <td>82.74</td>\n",
       "      <td>84.0</td>\n",
       "      <td>0.041246</td>\n",
       "      <td>14</td>\n",
       "      <td>10</td>\n",
       "      <td>0</td>\n",
       "      <td>21.280205</td>\n",
       "    </tr>\n",
       "    <tr>\n",
       "      <th>1</th>\n",
       "      <td>Mario Kart Wii</td>\n",
       "      <td>Wii</td>\n",
       "      <td>2008</td>\n",
       "      <td>Racing</td>\n",
       "      <td>Nintendo</td>\n",
       "      <td>15.85</td>\n",
       "      <td>12.88</td>\n",
       "      <td>3.79</td>\n",
       "      <td>3.31</td>\n",
       "      <td>35.82</td>\n",
       "      <td>82.0</td>\n",
       "      <td>8.3</td>\n",
       "      <td>E</td>\n",
       "      <td>35.83</td>\n",
       "      <td>90.3</td>\n",
       "      <td>0.017839</td>\n",
       "      <td>14</td>\n",
       "      <td>6</td>\n",
       "      <td>0</td>\n",
       "      <td>8.796565</td>\n",
       "    </tr>\n",
       "    <tr>\n",
       "      <th>2</th>\n",
       "      <td>Wii Sports Resort</td>\n",
       "      <td>Wii</td>\n",
       "      <td>2009</td>\n",
       "      <td>Sports</td>\n",
       "      <td>Nintendo</td>\n",
       "      <td>15.75</td>\n",
       "      <td>11.01</td>\n",
       "      <td>3.28</td>\n",
       "      <td>2.96</td>\n",
       "      <td>33.00</td>\n",
       "      <td>80.0</td>\n",
       "      <td>8.0</td>\n",
       "      <td>E</td>\n",
       "      <td>33.00</td>\n",
       "      <td>88.0</td>\n",
       "      <td>0.016426</td>\n",
       "      <td>14</td>\n",
       "      <td>10</td>\n",
       "      <td>0</td>\n",
       "      <td>8.046269</td>\n",
       "    </tr>\n",
       "    <tr>\n",
       "      <th>3</th>\n",
       "      <td>New Super Mario Bros.</td>\n",
       "      <td>DS</td>\n",
       "      <td>2006</td>\n",
       "      <td>Platform</td>\n",
       "      <td>Nintendo</td>\n",
       "      <td>11.38</td>\n",
       "      <td>9.23</td>\n",
       "      <td>6.50</td>\n",
       "      <td>2.90</td>\n",
       "      <td>30.01</td>\n",
       "      <td>89.0</td>\n",
       "      <td>8.5</td>\n",
       "      <td>E</td>\n",
       "      <td>30.01</td>\n",
       "      <td>97.5</td>\n",
       "      <td>0.014960</td>\n",
       "      <td>2</td>\n",
       "      <td>4</td>\n",
       "      <td>0</td>\n",
       "      <td>7.250743</td>\n",
       "    </tr>\n",
       "    <tr>\n",
       "      <th>4</th>\n",
       "      <td>Wii Play</td>\n",
       "      <td>Wii</td>\n",
       "      <td>2006</td>\n",
       "      <td>Misc</td>\n",
       "      <td>Nintendo</td>\n",
       "      <td>14.03</td>\n",
       "      <td>9.20</td>\n",
       "      <td>2.93</td>\n",
       "      <td>2.85</td>\n",
       "      <td>29.02</td>\n",
       "      <td>58.0</td>\n",
       "      <td>6.6</td>\n",
       "      <td>E</td>\n",
       "      <td>29.01</td>\n",
       "      <td>64.6</td>\n",
       "      <td>0.014467</td>\n",
       "      <td>14</td>\n",
       "      <td>3</td>\n",
       "      <td>0</td>\n",
       "      <td>6.987342</td>\n",
       "    </tr>\n",
       "  </tbody>\n",
       "</table>\n",
       "</div>"
      ],
      "text/plain": [
       "                    Name Platform  Year     Genre Publisher  NA_ Sales  \\\n",
       "0             Wii Sports      Wii  2006    Sports  Nintendo      41.49   \n",
       "1         Mario Kart Wii      Wii  2008    Racing  Nintendo      15.85   \n",
       "2      Wii Sports Resort      Wii  2009    Sports  Nintendo      15.75   \n",
       "3  New Super Mario Bros.       DS  2006  Platform  Nintendo      11.38   \n",
       "4               Wii Play      Wii  2006      Misc  Nintendo      14.03   \n",
       "\n",
       "   EU_Sales  JP_Sales  Other_Sales  Global_Sales  Critic_Score  User_Score  \\\n",
       "0     29.02      3.77         8.46         82.74          76.0         8.0   \n",
       "1     12.88      3.79         3.31         35.82          82.0         8.3   \n",
       "2     11.01      3.28         2.96         33.00          80.0         8.0   \n",
       "3      9.23      6.50         2.90         30.01          89.0         8.5   \n",
       "4      9.20      2.93         2.85         29.02          58.0         6.6   \n",
       "\n",
       "  Rating  Total_Sales  Total_Critic_Score  Sales_Per_Year  Platform_Encoded  \\\n",
       "0      E        82.74                84.0        0.041246                14   \n",
       "1      E        35.83                90.3        0.017839                14   \n",
       "2      E        33.00                88.0        0.016426                14   \n",
       "3      E        30.01                97.5        0.014960                 2   \n",
       "4      E        29.01                64.6        0.014467                14   \n",
       "\n",
       "   Genre_Encoded  Rating_Encoded  Global_Sales_Scaled  \n",
       "0             10               0            21.280205  \n",
       "1              6               0             8.796565  \n",
       "2             10               0             8.046269  \n",
       "3              4               0             7.250743  \n",
       "4              3               0             6.987342  "
      ]
     },
     "execution_count": 9,
     "metadata": {},
     "output_type": "execute_result"
    }
   ],
   "source": [
    "df.head()"
   ]
  },
  {
   "cell_type": "code",
   "execution_count": null,
   "id": "c13bd667",
   "metadata": {},
   "outputs": [],
   "source": []
  },
  {
   "cell_type": "code",
   "execution_count": null,
   "id": "57e3b8d0",
   "metadata": {},
   "outputs": [],
   "source": []
  },
  {
   "cell_type": "code",
   "execution_count": null,
   "id": "8b2075e1",
   "metadata": {},
   "outputs": [],
   "source": []
  },
  {
   "cell_type": "markdown",
   "id": "f6c56df9",
   "metadata": {},
   "source": [
    "**Applying the Machine Learning models:**"
   ]
  },
  {
   "cell_type": "code",
   "execution_count": 20,
   "id": "8ca99895",
   "metadata": {},
   "outputs": [],
   "source": [
    "from sklearn.model_selection import train_test_split\n",
    "from sklearn.model_selection import cross_val_score\n",
    "from sklearn.preprocessing import MinMaxScaler\n",
    "from sklearn.linear_model import LogisticRegression\n",
    "from sklearn.ensemble import RandomForestClassifier\n",
    "from sklearn.svm import SVC\n",
    "from sklearn.model_selection import GridSearchCV\n",
    "from sklearn.metrics import accuracy_score\n",
    "from sklearn.model_selection import validation_curve"
   ]
  },
  {
   "cell_type": "code",
   "execution_count": 27,
   "id": "8940b7db",
   "metadata": {},
   "outputs": [
    {
     "data": {
      "text/html": [
       "<div>\n",
       "<style scoped>\n",
       "    .dataframe tbody tr th:only-of-type {\n",
       "        vertical-align: middle;\n",
       "    }\n",
       "\n",
       "    .dataframe tbody tr th {\n",
       "        vertical-align: top;\n",
       "    }\n",
       "\n",
       "    .dataframe thead th {\n",
       "        text-align: right;\n",
       "    }\n",
       "</style>\n",
       "<table border=\"1\" class=\"dataframe\">\n",
       "  <thead>\n",
       "    <tr style=\"text-align: right;\">\n",
       "      <th></th>\n",
       "      <th>Year</th>\n",
       "      <th>Genre</th>\n",
       "      <th>NA_ Sales</th>\n",
       "      <th>EU_Sales</th>\n",
       "      <th>JP_Sales</th>\n",
       "      <th>Other_Sales</th>\n",
       "      <th>Global_Sales</th>\n",
       "      <th>Critic_Score</th>\n",
       "      <th>User_Score</th>\n",
       "      <th>Total_Sales</th>\n",
       "      <th>...</th>\n",
       "      <th>Publisher_Valve Software</th>\n",
       "      <th>Publisher_Virgin Interactive</th>\n",
       "      <th>Publisher_Vivendi Games</th>\n",
       "      <th>Publisher_Warner Bros. Interactive Entertainment</th>\n",
       "      <th>Publisher_Zoo Digital Publishing</th>\n",
       "      <th>Publisher_Zoo Games</th>\n",
       "      <th>Rating_E</th>\n",
       "      <th>Rating_E10+</th>\n",
       "      <th>Rating_M</th>\n",
       "      <th>Rating_T</th>\n",
       "    </tr>\n",
       "  </thead>\n",
       "  <tbody>\n",
       "    <tr>\n",
       "      <th>0</th>\n",
       "      <td>2006</td>\n",
       "      <td>Sports</td>\n",
       "      <td>41.49</td>\n",
       "      <td>29.02</td>\n",
       "      <td>3.77</td>\n",
       "      <td>8.46</td>\n",
       "      <td>82.74</td>\n",
       "      <td>76.0</td>\n",
       "      <td>8.0</td>\n",
       "      <td>82.74</td>\n",
       "      <td>...</td>\n",
       "      <td>0</td>\n",
       "      <td>0</td>\n",
       "      <td>0</td>\n",
       "      <td>0</td>\n",
       "      <td>0</td>\n",
       "      <td>0</td>\n",
       "      <td>1</td>\n",
       "      <td>0</td>\n",
       "      <td>0</td>\n",
       "      <td>0</td>\n",
       "    </tr>\n",
       "    <tr>\n",
       "      <th>1</th>\n",
       "      <td>2008</td>\n",
       "      <td>Racing</td>\n",
       "      <td>15.85</td>\n",
       "      <td>12.88</td>\n",
       "      <td>3.79</td>\n",
       "      <td>3.31</td>\n",
       "      <td>35.82</td>\n",
       "      <td>82.0</td>\n",
       "      <td>8.3</td>\n",
       "      <td>35.83</td>\n",
       "      <td>...</td>\n",
       "      <td>0</td>\n",
       "      <td>0</td>\n",
       "      <td>0</td>\n",
       "      <td>0</td>\n",
       "      <td>0</td>\n",
       "      <td>0</td>\n",
       "      <td>1</td>\n",
       "      <td>0</td>\n",
       "      <td>0</td>\n",
       "      <td>0</td>\n",
       "    </tr>\n",
       "    <tr>\n",
       "      <th>2</th>\n",
       "      <td>2009</td>\n",
       "      <td>Sports</td>\n",
       "      <td>15.75</td>\n",
       "      <td>11.01</td>\n",
       "      <td>3.28</td>\n",
       "      <td>2.96</td>\n",
       "      <td>33.00</td>\n",
       "      <td>80.0</td>\n",
       "      <td>8.0</td>\n",
       "      <td>33.00</td>\n",
       "      <td>...</td>\n",
       "      <td>0</td>\n",
       "      <td>0</td>\n",
       "      <td>0</td>\n",
       "      <td>0</td>\n",
       "      <td>0</td>\n",
       "      <td>0</td>\n",
       "      <td>1</td>\n",
       "      <td>0</td>\n",
       "      <td>0</td>\n",
       "      <td>0</td>\n",
       "    </tr>\n",
       "    <tr>\n",
       "      <th>3</th>\n",
       "      <td>2006</td>\n",
       "      <td>Platform</td>\n",
       "      <td>11.38</td>\n",
       "      <td>9.23</td>\n",
       "      <td>6.50</td>\n",
       "      <td>2.90</td>\n",
       "      <td>30.01</td>\n",
       "      <td>89.0</td>\n",
       "      <td>8.5</td>\n",
       "      <td>30.01</td>\n",
       "      <td>...</td>\n",
       "      <td>0</td>\n",
       "      <td>0</td>\n",
       "      <td>0</td>\n",
       "      <td>0</td>\n",
       "      <td>0</td>\n",
       "      <td>0</td>\n",
       "      <td>1</td>\n",
       "      <td>0</td>\n",
       "      <td>0</td>\n",
       "      <td>0</td>\n",
       "    </tr>\n",
       "    <tr>\n",
       "      <th>4</th>\n",
       "      <td>2006</td>\n",
       "      <td>Misc</td>\n",
       "      <td>14.03</td>\n",
       "      <td>9.20</td>\n",
       "      <td>2.93</td>\n",
       "      <td>2.85</td>\n",
       "      <td>29.02</td>\n",
       "      <td>58.0</td>\n",
       "      <td>6.6</td>\n",
       "      <td>29.01</td>\n",
       "      <td>...</td>\n",
       "      <td>0</td>\n",
       "      <td>0</td>\n",
       "      <td>0</td>\n",
       "      <td>0</td>\n",
       "      <td>0</td>\n",
       "      <td>0</td>\n",
       "      <td>1</td>\n",
       "      <td>0</td>\n",
       "      <td>0</td>\n",
       "      <td>0</td>\n",
       "    </tr>\n",
       "  </tbody>\n",
       "</table>\n",
       "<p>5 rows × 1077 columns</p>\n",
       "</div>"
      ],
      "text/plain": [
       "   Year     Genre  NA_ Sales  EU_Sales  JP_Sales  Other_Sales  Global_Sales  \\\n",
       "0  2006    Sports      41.49     29.02      3.77         8.46         82.74   \n",
       "1  2008    Racing      15.85     12.88      3.79         3.31         35.82   \n",
       "2  2009    Sports      15.75     11.01      3.28         2.96         33.00   \n",
       "3  2006  Platform      11.38      9.23      6.50         2.90         30.01   \n",
       "4  2006      Misc      14.03      9.20      2.93         2.85         29.02   \n",
       "\n",
       "   Critic_Score  User_Score  Total_Sales  ...  Publisher_Valve Software  \\\n",
       "0          76.0         8.0        82.74  ...                         0   \n",
       "1          82.0         8.3        35.83  ...                         0   \n",
       "2          80.0         8.0        33.00  ...                         0   \n",
       "3          89.0         8.5        30.01  ...                         0   \n",
       "4          58.0         6.6        29.01  ...                         0   \n",
       "\n",
       "   Publisher_Virgin Interactive  Publisher_Vivendi Games  \\\n",
       "0                             0                        0   \n",
       "1                             0                        0   \n",
       "2                             0                        0   \n",
       "3                             0                        0   \n",
       "4                             0                        0   \n",
       "\n",
       "   Publisher_Warner Bros. Interactive Entertainment  \\\n",
       "0                                                 0   \n",
       "1                                                 0   \n",
       "2                                                 0   \n",
       "3                                                 0   \n",
       "4                                                 0   \n",
       "\n",
       "   Publisher_Zoo Digital Publishing  Publisher_Zoo Games  Rating_E  \\\n",
       "0                                 0                    0         1   \n",
       "1                                 0                    0         1   \n",
       "2                                 0                    0         1   \n",
       "3                                 0                    0         1   \n",
       "4                                 0                    0         1   \n",
       "\n",
       "   Rating_E10+  Rating_M  Rating_T  \n",
       "0            0         0         0  \n",
       "1            0         0         0  \n",
       "2            0         0         0  \n",
       "3            0         0         0  \n",
       "4            0         0         0  \n",
       "\n",
       "[5 rows x 1077 columns]"
      ]
     },
     "execution_count": 27,
     "metadata": {},
     "output_type": "execute_result"
    }
   ],
   "source": [
    "df_dummies = pd.get_dummies(df, columns=['Name','Platform', 'Publisher','Rating'])\n",
    "\n",
    "\n",
    "# Define your features and target variable\n",
    "X = df_dummies.drop('Genre', axis=1) # Drop the target variable\n",
    "y = df_dummies['Genre']\n",
    "# Splitting the data into training and testing sets\n",
    "X_train, X_test, y_train, y_test = train_test_split(X, y, test_size=0.2, random_state=42)\n",
    "\n",
    "df_dummies.head()"
   ]
  },
  {
   "cell_type": "markdown",
   "id": "405178c0",
   "metadata": {},
   "source": [
    "**Logistic Regression**"
   ]
  },
  {
   "cell_type": "code",
   "execution_count": 55,
   "id": "cde1df8a",
   "metadata": {},
   "outputs": [
    {
     "name": "stdout",
     "output_type": "stream",
     "text": [
      "Logistic Regression accuracy: 0.6678966789667896\n"
     ]
    }
   ],
   "source": [
    "X_train, X_test, y_train, y_test = train_test_split(X, y, test_size=0.2, random_state=42)\n",
    "\n",
    "logreg = LogisticRegression(random_state=42)\n",
    "logreg.fit(X_train, y_train)\n",
    "\n",
    "acc_logreg = logreg.score(X_test, y_test)\n",
    "print('Logistic Regression accuracy:', acc_logreg)"
   ]
  },
  {
   "cell_type": "code",
   "execution_count": 57,
   "id": "7e72745f",
   "metadata": {},
   "outputs": [
    {
     "name": "stdout",
     "output_type": "stream",
     "text": [
      "[[64  0  0  0  0  0  0  0  0  0  0  0]\n",
      " [ 3  0  0  0  0  0  0  0  0  0  0  0]\n",
      " [ 6  0  4  3  1  0  0  0  0  0  0  0]\n",
      " [ 0  0  4 14  3  0  0  0  0  0  0  0]\n",
      " [ 0  0  2  4 12  0  5  2  1  0  0  0]\n",
      " [ 0  0  0  1  1  0  0  2  0  0  0  0]\n",
      " [ 0  0  0  2  0  0  8  2  5  1  0  0]\n",
      " [ 0  0  0  0  0  0  3 11  4  0  0  0]\n",
      " [ 0  0  0  0  0  0  4 13 29  0  4  0]\n",
      " [ 0  0  0  0  0  0  0  3  3  2  2  0]\n",
      " [ 0  0  0  0  0  0  0  3  2  0 37  0]\n",
      " [ 0  0  0  0  0  0  0  0  0  0  1  0]]\n",
      "0.6678966789667896\n"
     ]
    }
   ],
   "source": [
    "from sklearn.metrics import confusion_matrix\n",
    "\n",
    "cnf_matrix = confusion_matrix(y_test, logreg.predict(X_test))\n",
    "print(cnf_matrix)\n",
    "\n",
    "Accuracy_lr=logreg.score(X_test,y_test)\n",
    "\n",
    "print(Accuracy_lr)"
   ]
  },
  {
   "cell_type": "code",
   "execution_count": 58,
   "id": "3f47200b",
   "metadata": {},
   "outputs": [
    {
     "name": "stdout",
     "output_type": "stream",
     "text": [
      "[0.81818182 0.85185185 0.77777778 0.7037037  0.85185185]\n",
      "Mean cross validation test score: 0.8006734006734006\n",
      "Mean cross validation train score: 0.9277777777777778\n",
      "Standard deviation in cv test scores: 0.0556279499745815\n"
     ]
    }
   ],
   "source": [
    "cv_scores = cross_val_score(logreg, X, y, cv=5, scoring='accuracy')\n",
    "print(cv_scores_test)\n",
    "cv_scores_lr_test= cv_scores_test.mean()\n",
    "cv_scores_lr_train= cv_scores_train.mean()\n",
    "cv_scores_std_test_lr= cv_scores_test.std()\n",
    "print ('Mean cross validation test score: ' +str(cv_scores_lr_test))\n",
    "print ('Mean cross validation train score: ' +str(cv_scores_lr_train))\n",
    "print ('Standard deviation in cv test scores: ' +str(cv_scores_std_test_lr))\n"
   ]
  },
  {
   "cell_type": "markdown",
   "id": "4f00d25f",
   "metadata": {},
   "source": [
    "**K-Nearest Neighbor**"
   ]
  },
  {
   "cell_type": "code",
   "execution_count": 60,
   "id": "7b5a72cd",
   "metadata": {},
   "outputs": [
    {
     "name": "stdout",
     "output_type": "stream",
     "text": [
      "0.7158671586715867\n",
      "Accuracy: 0.7158671586715867\n",
      "Confusion Matrix:\n",
      " [[56  0  2  1  1  0  1  0  2  0  1  0]\n",
      " [ 1  0  1  0  1  0  0  0  0  0  0  0]\n",
      " [ 2  0 10  0  0  0  0  1  1  0  0  0]\n",
      " [ 2  0  0 11  6  0  1  0  0  1  0  0]\n",
      " [ 3  0  0  3 16  0  4  0  0  0  0  0]\n",
      " [ 0  0  0  0  1  2  0  1  0  0  0  0]\n",
      " [ 2  0  0  1  2  0 11  0  0  1  1  0]\n",
      " [ 1  0  1  2  0  0  1  9  4  0  0  0]\n",
      " [ 8  0  0  1  0  0  2  1 38  0  0  0]\n",
      " [ 1  0  0  0  0  0  0  0  3  6  0  0]\n",
      " [ 1  0  0  0  0  0  1  0  4  0 35  1]\n",
      " [ 0  0  0  0  0  0  1  0  0  0  0  0]]\n",
      "Classification Report:\n",
      "               precision    recall  f1-score   support\n",
      "\n",
      "      Action       0.73      0.88      0.79        64\n",
      "   Adventure       0.00      0.00      0.00         3\n",
      "    Fighting       0.71      0.71      0.71        14\n",
      "        Misc       0.58      0.52      0.55        21\n",
      "    Platform       0.59      0.62      0.60        26\n",
      "      Puzzle       1.00      0.50      0.67         4\n",
      "      Racing       0.50      0.61      0.55        18\n",
      "Role-Playing       0.75      0.50      0.60        18\n",
      "     Shooter       0.73      0.76      0.75        50\n",
      "  Simulation       0.75      0.60      0.67        10\n",
      "      Sports       0.95      0.83      0.89        42\n",
      "    Strategy       0.00      0.00      0.00         1\n",
      "\n",
      "    accuracy                           0.72       271\n",
      "   macro avg       0.61      0.54      0.56       271\n",
      "weighted avg       0.72      0.72      0.71       271\n",
      "\n"
     ]
    }
   ],
   "source": [
    "X_train, X_test, y_train, y_test = train_test_split(X, y, test_size=0.2, random_state=42)\n",
    "\n",
    "scaler = MinMaxScaler()\n",
    "X_train = scaler.fit_transform(X_train)\n",
    "X_test = scaler.transform(X_test)\n",
    "\n",
    "from sklearn.neighbors import KNeighborsClassifier\n",
    "\n",
    "knn = KNeighborsClassifier(n_neighbors=5)\n",
    "knn.fit(X_train, y_train)\n",
    "\n",
    "y_pred = knn.predict(X_test)\n",
    "Accuracy_knn=knn.score(X_test,y_test)\n",
    "\n",
    "print(Accuracy_knn)\n",
    "#knn_disp= plot_roc_curve(knn,X_test,y_test)\n",
    "\n",
    "\n",
    "from sklearn.metrics import accuracy_score, confusion_matrix, classification_report\n",
    "\n",
    "print(\"Accuracy:\", knn.score(X_test, y_test))\n",
    "print(\"Confusion Matrix:\\n\", confusion_matrix(y_test, y_pred))\n",
    "print(\"Classification Report:\\n\", classification_report(y_test, y_pred))"
   ]
  },
  {
   "cell_type": "code",
   "execution_count": 61,
   "id": "8524cd24",
   "metadata": {},
   "outputs": [
    {
     "name": "stdout",
     "output_type": "stream",
     "text": [
      "[0.69090909 0.62962963 0.48148148 0.55555556 0.57407407]\n",
      "Mean cross validation test: 0.5863299663299663\n",
      "Mean cross validation train: 0.6611111111111112\n",
      "Standard deviation in cv: 0.07057213354876475\n"
     ]
    }
   ],
   "source": [
    "cv_scores_test= cross_val_score(knn,X_test,y_test,cv=5,scoring='accuracy')\n",
    "cv_scores_train= cross_val_score(knn,X_train,y_train,cv=5,scoring='accuracy')\n",
    "print(cv_scores_test)\n",
    "cv_scores_knn_test= cv_scores_test.mean()\n",
    "cv_scores_knn_train= cv_scores_train.mean()\n",
    "cv_scores_std_knn= cv_scores_test.std()\n",
    "print ('Mean cross validation test: ' +str(cv_scores_knn_test))\n",
    "print ('Mean cross validation train: ' +str(cv_scores_knn_train))\n",
    "print ('Standard deviation in cv: ' +str(cv_scores_std_knn))"
   ]
  },
  {
   "cell_type": "markdown",
   "id": "4e4cd5e8",
   "metadata": {},
   "source": [
    "**Support Vector Machine**"
   ]
  },
  {
   "cell_type": "code",
   "execution_count": 46,
   "id": "3d2c8683",
   "metadata": {},
   "outputs": [
    {
     "name": "stdout",
     "output_type": "stream",
     "text": [
      "[[63  0  1  0  0  0  0  0  0  0  0  0]\n",
      " [ 2  0  0  1  0  0  0  0  0  0  0  0]\n",
      " [ 4  0 10  0  0  0  0  0  0  0  0  0]\n",
      " [ 3  0  0 13  4  0  1  0  0  0  0  0]\n",
      " [ 1  0  0  2 17  0  5  0  1  0  0  0]\n",
      " [ 0  0  0  1  0  0  2  1  0  0  0  0]\n",
      " [ 0  0  0  0  1  0 13  0  4  0  0  0]\n",
      " [ 0  0  0  0  1  0  0 11  6  0  0  0]\n",
      " [ 0  0  0  0  0  0  2  0 48  0  0  0]\n",
      " [ 0  0  0  0  0  0  0  0  5  5  0  0]\n",
      " [ 0  0  0  0  0  0  0  1  5  0 36  0]\n",
      " [ 0  0  0  0  0  0  0  0  0  1  0  0]]\n",
      "0.7970479704797048\n"
     ]
    }
   ],
   "source": [
    "svm = SVC(kernel='rbf')\n",
    "svm.fit(X_train, y_train)\n",
    "\n",
    "# Predict using model:\n",
    "\n",
    "y_predict_svm=svm.predict(X_test)\n",
    "\n",
    "#Confusion matrix:\n",
    "\n",
    "cnf_matrix = confusion_matrix(y_test, y_predict_svm)\n",
    "print(cnf_matrix)\n",
    "\n",
    "Accuracy_svm=svm.score(X_test,y_test)\n",
    "print(Accuracy_svm)"
   ]
  },
  {
   "cell_type": "code",
   "execution_count": 47,
   "id": "ca6efce1",
   "metadata": {},
   "outputs": [
    {
     "name": "stdout",
     "output_type": "stream",
     "text": [
      "[0.65454545 0.64814815 0.57407407 0.59259259 0.62962963]\n",
      "Mean cross validation test score: 0.6197979797979798\n",
      "Mean cross validation train score: 0.6935185185185184\n",
      "Standard deviation in cv scores: 0.031427978085982966\n"
     ]
    }
   ],
   "source": [
    "cv_scores_test= cross_val_score(svm,X_test,y_test,cv=5,scoring='accuracy')\n",
    "cv_scores_train= cross_val_score(svm,X_train,y_train,cv=5,scoring='accuracy')\n",
    "print(cv_scores_test)\n",
    "cv_scores_svm_test= cv_scores_test.mean()\n",
    "cv_scores_svm_train= cv_scores_train.mean()\n",
    "cv_scores_std_svm= cv_scores_test.std()\n",
    "print ('Mean cross validation test score: ' +str(cv_scores_svm_test))\n",
    "print ('Mean cross validation train score: ' +str(cv_scores_svm_train))\n",
    "print ('Standard deviation in cv scores: ' +str(cv_scores_std_svm))"
   ]
  },
  {
   "cell_type": "markdown",
   "id": "08b30ca2",
   "metadata": {},
   "source": [
    "**Random Forest**"
   ]
  },
  {
   "cell_type": "code",
   "execution_count": 63,
   "id": "a9a5e18b",
   "metadata": {},
   "outputs": [
    {
     "name": "stdout",
     "output_type": "stream",
     "text": [
      "12     0.196342\n",
      "9      0.033920\n",
      "13     0.033513\n",
      "3      0.032626\n",
      "2      0.032374\n",
      "         ...   \n",
      "147    0.000000\n",
      "323    0.000000\n",
      "699    0.000000\n",
      "143    0.000000\n",
      "771    0.000000\n",
      "Length: 1076, dtype: float64\n",
      "              precision    recall  f1-score   support\n",
      "\n",
      "      Action       0.90      1.00      0.95        64\n",
      "   Adventure       0.00      0.00      0.00         3\n",
      "    Fighting       0.90      0.64      0.75        14\n",
      "        Misc       0.89      0.81      0.85        21\n",
      "    Platform       0.96      0.85      0.90        26\n",
      "      Puzzle       1.00      0.50      0.67         4\n",
      "      Racing       0.71      0.67      0.69        18\n",
      "Role-Playing       0.72      0.72      0.72        18\n",
      "     Shooter       0.73      0.90      0.80        50\n",
      "  Simulation       0.88      0.70      0.78        10\n",
      "      Sports       0.93      0.88      0.90        42\n",
      "    Strategy       0.00      0.00      0.00         1\n",
      "\n",
      "    accuracy                           0.84       271\n",
      "   macro avg       0.72      0.64      0.67       271\n",
      "weighted avg       0.84      0.84      0.83       271\n",
      "\n",
      "0.8413284132841329\n"
     ]
    }
   ],
   "source": [
    "from sklearn.ensemble import RandomForestClassifier\n",
    "from sklearn.model_selection import GridSearchCV, cross_val_score\n",
    "from sklearn.metrics import classification_report\n",
    "\n",
    "# Random Forest Classifier with Grid Search and Cross Validation\n",
    "rf = RandomForestClassifier()\n",
    "\n",
    "# Hyperparameters to search over\n",
    "param_grid = {\n",
    "    'n_estimators': [100, 500, 1000],\n",
    "    'max_depth': [5, 10, 20],\n",
    "    'min_samples_split': [2, 5, 10]\n",
    "}\n",
    "\n",
    "# Create a GridSearchCV object with the specified hyperparameters\n",
    "grid_search = GridSearchCV(rf, param_grid=param_grid, cv=5)\n",
    "\n",
    "# Fit the GridSearchCV object to your training data\n",
    "grid_search.fit(X_train, y_train)\n",
    "\n",
    "# Get the best random forest model from the grid search\n",
    "rf = grid_search.best_estimator_\n",
    "\n",
    "# Feature Importance\n",
    "feature_importances = pd.Series(rf.feature_importances_, index=pd.DataFrame(X_train).columns)\n",
    "feature_importances.sort_values(ascending=False, inplace=True)\n",
    "print(feature_importances)\n",
    "\n",
    "# Model Evaluation\n",
    "y_pred = rf.predict(X_test)\n",
    "print(classification_report(y_test, y_pred))\n",
    "Accuracy_rf=rf.score(X_test,y_test)\n",
    "print(Accuracy_rf)"
   ]
  },
  {
   "cell_type": "code",
   "execution_count": 64,
   "id": "1e139546",
   "metadata": {},
   "outputs": [
    {
     "name": "stdout",
     "output_type": "stream",
     "text": [
      "[0.70909091 0.7037037  0.61111111 0.66666667 0.62962963]\n",
      "Mean cross validation test score: 0.664040404040404\n",
      "Mean cross validation train score: 0.725925925925926\n",
      "Standard deviation in cv scores: 0.03897495104913538\n"
     ]
    }
   ],
   "source": [
    "\n",
    "cv_scores_test= cross_val_score(rf,X_test,y_test,cv=5,scoring='accuracy')\n",
    "cv_scores_train= cross_val_score(rf,X_train,y_train,cv=5,scoring='accuracy')\n",
    "print(cv_scores_test)\n",
    "cv_scores_rf_test= cv_scores_test.mean()\n",
    "cv_scores_rf_train= cv_scores_train.mean()\n",
    "cv_scores_std_rf= cv_scores_test.std()\n",
    "print ('Mean cross validation test score: ' +str(cv_scores_rf_test))\n",
    "print ('Mean cross validation train score: ' +str(cv_scores_rf_train))\n",
    "print ('Standard deviation in cv scores: ' +str(cv_scores_std_rf))"
   ]
  },
  {
   "cell_type": "markdown",
   "id": "06c7cdbd",
   "metadata": {},
   "source": [
    "**Gradient Boosting**"
   ]
  },
  {
   "cell_type": "code",
   "execution_count": 39,
   "id": "7c71c71e",
   "metadata": {},
   "outputs": [
    {
     "name": "stdout",
     "output_type": "stream",
     "text": [
      "[[64  0  0  0  0  0  0  0  0  0  0  0]\n",
      " [ 0  1  0  0  0  2  0  0  0  0  0  0]\n",
      " [ 0  0 14  0  0  0  0  0  0  0  0  0]\n",
      " [ 0  0  0 21  0  0  0  0  0  0  0  0]\n",
      " [ 0  0  0  0 26  0  0  0  0  0  0  0]\n",
      " [ 0  0  0  0  0  4  0  0  0  0  0  0]\n",
      " [ 0  0  0  0  0  0 18  0  0  0  0  0]\n",
      " [ 0  0  0  0  0  0  0 18  0  0  0  0]\n",
      " [ 0  0  0  0  0  0  0  0 50  0  0  0]\n",
      " [ 0  0  0  0  0  0  0  0  0 10  0  0]\n",
      " [ 0  0  0  0  0  0  0  0  0  0 42  0]\n",
      " [ 0  0  0  0  0  0  0  0  0  0  0  1]]\n",
      "0.992619926199262\n"
     ]
    }
   ],
   "source": [
    "from sklearn.ensemble import ExtraTreesClassifier, GradientBoostingClassifier\n",
    "gbc = GradientBoostingClassifier(subsample=0.8, learning_rate=0.05 , n_estimators=160, random_state=5, max_depth=9, max_leaf_nodes=100)\n",
    "gbc.fit(X_train, y_train)\n",
    "\n",
    "#Predict using the model:\n",
    "\n",
    "y_predict_gbc = gbc.predict(X_test)\n",
    "\n",
    "#Confusion matrix:\n",
    "\n",
    "cnf_matrix = confusion_matrix(y_test, y_predict_gbc)\n",
    "print(cnf_matrix)\n",
    "Accuracy_gbc=gbc.score(X_test,y_test)\n",
    "print(Accuracy_gbc)"
   ]
  },
  {
   "cell_type": "code",
   "execution_count": 41,
   "id": "a7a7ae9f",
   "metadata": {},
   "outputs": [
    {
     "name": "stdout",
     "output_type": "stream",
     "text": [
      "[0.87272727 0.83333333 0.92592593 0.75925926 0.87037037]\n",
      "Mean cross validation test score: 0.8523232323232323\n",
      "Mean cross validation train score: 0.987037037037037\n",
      "Standard deviation in cv scores: 0.05510154246148219\n"
     ]
    }
   ],
   "source": [
    "cv_scores_test= cross_val_score(gbc,X_test,y_test,cv=5,scoring='accuracy')\n",
    "cv_scores_train= cross_val_score(gbc,X_train,y_train,cv=5,scoring='accuracy')\n",
    "print(cv_scores_test)\n",
    "cv_scores_gbc_test= cv_scores_test.mean()\n",
    "cv_scores_gbc_train= cv_scores_train.mean()\n",
    "cv_scores_std_gbc= cv_scores_test.std()\n",
    "print ('Mean cross validation test score: ' +str(cv_scores_gbc_test))\n",
    "print ('Mean cross validation train score: ' +str(cv_scores_gbc_train))\n",
    "print ('Standard deviation in cv scores: ' +str(cv_scores_std_gbc))"
   ]
  },
  {
   "cell_type": "markdown",
   "id": "798f7527",
   "metadata": {},
   "source": [
    "**Naive Bayes**"
   ]
  },
  {
   "cell_type": "code",
   "execution_count": 52,
   "id": "9ef462b0",
   "metadata": {},
   "outputs": [
    {
     "name": "stdout",
     "output_type": "stream",
     "text": [
      "[[64  0  0  0  0  0  0  0  0  0  0  0]\n",
      " [ 0  3  0  0  0  0  0  0  0  0  0  0]\n",
      " [ 0  0 14  0  0  0  0  0  0  0  0  0]\n",
      " [ 1  0  0 19  0  0  1  0  0  0  0  0]\n",
      " [ 1  0  0  1 21  0  0  3  0  0  0  0]\n",
      " [ 0  0  0  0  0  3  1  0  0  0  0  0]\n",
      " [ 0  0  0  0  0  0 17  1  0  0  0  0]\n",
      " [ 0  0  0  0  0  0  0 17  1  0  0  0]\n",
      " [ 0  0  0  0  0  0  1  0 49  0  0  0]\n",
      " [ 0  0  0  0  0  0  0  0  2  8  0  0]\n",
      " [ 0  0  0  0  0  0  1  0  0  0 41  0]\n",
      " [ 0  0  0  0  0  0  0  0  0  0  1  0]]\n",
      "0.9446494464944649\n"
     ]
    }
   ],
   "source": [
    "from sklearn.naive_bayes import GaussianNB\n",
    "nb = GaussianNB()\n",
    "nb.fit(X_train,y_train)\n",
    "\n",
    "#Predict using the model:\n",
    "\n",
    "y_predict_nb=nb.predict(X_test)\n",
    "\n",
    "#Confusion matrix:\n",
    "\n",
    "cnf_matrix = confusion_matrix(y_test, y_predict_nb)\n",
    "print(cnf_matrix)\n",
    "Accuracy_nb=nb.score(X_test,y_test)\n",
    "print(Accuracy_nb)"
   ]
  },
  {
   "cell_type": "code",
   "execution_count": 53,
   "id": "90b9b2af",
   "metadata": {},
   "outputs": [
    {
     "name": "stdout",
     "output_type": "stream",
     "text": [
      "[0.81818182 0.85185185 0.77777778 0.7037037  0.85185185]\n",
      "Mean cross validation test score: 0.8006734006734006\n",
      "Mean cross validation train score: 0.9277777777777778\n",
      "Standard deviation in cv scores: 0.0556279499745815\n"
     ]
    }
   ],
   "source": [
    "cv_scores_test= cross_val_score(nb,X_test,y_test,cv=5,scoring='accuracy')\n",
    "cv_scores_train= cross_val_score(nb,X_train,y_train,cv=5,scoring='accuracy')\n",
    "print(cv_scores_test)\n",
    "cv_scores_nb_test= cv_scores_test.mean()\n",
    "cv_scores_nb_train= cv_scores_train.mean()\n",
    "cv_scores_std_nb= cv_scores_test.std()\n",
    "print ('Mean cross validation test score: ' +str(cv_scores_nb_test))\n",
    "print ('Mean cross validation train score: ' +str(cv_scores_nb_train))\n",
    "print ('Standard deviation in cv scores: ' +str(cv_scores_std_nb))"
   ]
  },
  {
   "cell_type": "markdown",
   "id": "1fcc43e5",
   "metadata": {},
   "source": [
    "**Comparison of the Models**"
   ]
  },
  {
   "cell_type": "code",
   "execution_count": 65,
   "id": "6e130337",
   "metadata": {},
   "outputs": [
    {
     "name": "stdout",
     "output_type": "stream",
     "text": [
      "             Algorithm  Model accuracy score\n",
      "0  Logistic Regression              0.667897\n",
      "1                  KNN              0.715867\n",
      "2                  SVM              0.797048\n",
      "3        Random Forest              0.841328\n",
      "4       Gradient Boost              0.992620\n",
      "5          Naive Bayes              0.944649\n"
     ]
    },
    {
     "data": {
      "text/html": [
       "<div>\n",
       "<style scoped>\n",
       "    .dataframe tbody tr th:only-of-type {\n",
       "        vertical-align: middle;\n",
       "    }\n",
       "\n",
       "    .dataframe tbody tr th {\n",
       "        vertical-align: top;\n",
       "    }\n",
       "\n",
       "    .dataframe thead th {\n",
       "        text-align: right;\n",
       "    }\n",
       "</style>\n",
       "<table border=\"1\" class=\"dataframe\">\n",
       "  <thead>\n",
       "    <tr style=\"text-align: right;\">\n",
       "      <th></th>\n",
       "      <th>Algorithm</th>\n",
       "      <th>Cross Validation precision train score</th>\n",
       "      <th>Cross Validation precision test score</th>\n",
       "    </tr>\n",
       "  </thead>\n",
       "  <tbody>\n",
       "    <tr>\n",
       "      <th>0</th>\n",
       "      <td>Logistic Regression</td>\n",
       "      <td>0.927778</td>\n",
       "      <td>0.800673</td>\n",
       "    </tr>\n",
       "    <tr>\n",
       "      <th>1</th>\n",
       "      <td>KNN</td>\n",
       "      <td>0.661111</td>\n",
       "      <td>0.586330</td>\n",
       "    </tr>\n",
       "    <tr>\n",
       "      <th>2</th>\n",
       "      <td>SVM</td>\n",
       "      <td>0.693519</td>\n",
       "      <td>0.619798</td>\n",
       "    </tr>\n",
       "    <tr>\n",
       "      <th>3</th>\n",
       "      <td>Random Forest</td>\n",
       "      <td>0.725926</td>\n",
       "      <td>0.664040</td>\n",
       "    </tr>\n",
       "    <tr>\n",
       "      <th>4</th>\n",
       "      <td>Gradient Boost</td>\n",
       "      <td>0.987037</td>\n",
       "      <td>0.852323</td>\n",
       "    </tr>\n",
       "    <tr>\n",
       "      <th>5</th>\n",
       "      <td>Naive Bayes</td>\n",
       "      <td>0.927778</td>\n",
       "      <td>0.800673</td>\n",
       "    </tr>\n",
       "  </tbody>\n",
       "</table>\n",
       "</div>"
      ],
      "text/plain": [
       "             Algorithm  Cross Validation precision train score  \\\n",
       "0  Logistic Regression                                0.927778   \n",
       "1                  KNN                                0.661111   \n",
       "2                  SVM                                0.693519   \n",
       "3        Random Forest                                0.725926   \n",
       "4       Gradient Boost                                0.987037   \n",
       "5          Naive Bayes                                0.927778   \n",
       "\n",
       "   Cross Validation precision test score  \n",
       "0                               0.800673  \n",
       "1                               0.586330  \n",
       "2                               0.619798  \n",
       "3                               0.664040  \n",
       "4                               0.852323  \n",
       "5                               0.800673  "
      ]
     },
     "execution_count": 65,
     "metadata": {},
     "output_type": "execute_result"
    }
   ],
   "source": [
    "myLabels = [ 'Logistic Regression','KNN','SVM','Random Forest','Gradient Boost', 'Naive Bayes']\n",
    "score_test= [  cv_scores_lr_test,cv_scores_knn_test,cv_scores_svm_test,cv_scores_rf_test,cv_scores_gbc_test,cv_scores_nb_test]\n",
    "score_train= [  cv_scores_lr_train,cv_scores_knn_train,cv_scores_svm_train,cv_scores_rf_train,cv_scores_gbc_train,cv_scores_nb_train]\n",
    "Accuracy_score = [Accuracy_lr,Accuracy_knn,Accuracy_svm,Accuracy_rf,Accuracy_gbc,Accuracy_nb]\n",
    "\n",
    "score_tab_acc = pd.DataFrame(list(zip(myLabels, Accuracy_score)), \n",
    "               columns =['Algorithm', 'Model accuracy score']) \n",
    "\n",
    "score_tab = pd.DataFrame(list(zip(myLabels, score_train, score_test)), \n",
    "               columns =['Algorithm', 'Cross Validation precision train score', 'Cross Validation precision test score' ]) \n",
    "print(score_tab_acc)\n",
    "\n",
    "score_tab"
   ]
  },
  {
   "cell_type": "code",
   "execution_count": 66,
   "id": "19a641eb",
   "metadata": {},
   "outputs": [
    {
     "data": {
      "image/png": "[encoded data removed]",
      "text/plain": [
       "<Figure size 1000x500 with 1 Axes>"
      ]
     },
     "metadata": {},
     "output_type": "display_data"
    },
    {
     "data": {
      "image/png": "[encoded data removed]",
      "text/plain": [
       "<Figure size 1000x500 with 1 Axes>"
      ]
     },
     "metadata": {},
     "output_type": "display_data"
    }
   ],
   "source": [
    "index=[1,2,3,4,5,6]\n",
    "index_acc=[1.2,2.2,3.2,4.2,5.2,6.2]\n",
    "plt.figure(figsize=(10,5))\n",
    "plt.xlabel('Models',fontsize=15)\n",
    "plt.ylabel ('Model accuracy scores',fontsize=15)\n",
    "plt.title('Comparison of the algorithms',fontsize=15)\n",
    "#patterns = [ \"/\"]\n",
    "_=plt.bar(index_acc,Accuracy_score,color='coral',alpha=0.8,label='Accuracy score',edgecolor='k',width=0.3)\n",
    "plt.xticks([1, 2,3,4,5,6], myLabels)\n",
    "#plt.legend()\n",
    "plt.savefig(\"26.png\")\n",
    "plt.show()\n",
    "\n",
    "\n",
    "\n",
    "index=[1,2,3,4,5,6]\n",
    "index_acc=[1.2,2.2,3.2,4.2,5.2,6.2]\n",
    "plt.figure(figsize=(10,5))\n",
    "plt.xlabel('Models',fontsize=15)\n",
    "plt.ylabel ('Cross Validation Precision scores',fontsize=15)\n",
    "plt.title('Comparison of the algorithms',fontsize=15)\n",
    "_=plt.bar(index,score_train,color='b',alpha=0.6,label='Training score',edgecolor='k',width=0.2)\n",
    "_=plt.bar(index_acc,score_test,color='cyan',alpha=0.8,label='Test score',edgecolor='k',width=0.2)\n",
    "plt.xticks([1, 2,3,4,5,6], myLabels)\n",
    "plt.legend()\n",
    "plt.savefig(\"27.png\")\n",
    "plt.show()"
   ]
  },
  {
   "cell_type": "markdown",
   "id": "3c36b738",
   "metadata": {},
   "source": [
    "**Parameter Tuning for Gradient Boost:**"
   ]
  },
  {
   "cell_type": "code",
   "execution_count": 68,
   "id": "0d39fb52",
   "metadata": {
    "scrolled": true
   },
   "outputs": [
    {
     "name": "stdout",
     "output_type": "stream",
     "text": [
      "Fitting 3 folds for each of 10 candidates, totalling 30 fits\n",
      "GradientBoostingClassifier(loss='deviance', max_depth=8, max_features=0.3,\n",
      "                           min_samples_leaf=100, n_estimators=300)\n",
      "0.987037037037037\n"
     ]
    }
   ],
   "source": [
    "from sklearn.model_selection import RandomizedSearchCV\n",
    "\n",
    "GB = GradientBoostingClassifier()\n",
    "gb_param = {\n",
    "        'loss' : [\"deviance\"],\n",
    "        'n_estimators' : [100,200,300],\n",
    "        'learning_rate': [0.1, 0.05, 0.01],\n",
    "        'max_depth': [4, 8],\n",
    "        'min_samples_leaf': [100,150],\n",
    "        'max_features': [0.3, 0.1] \n",
    "        }\n",
    "\n",
    "gsGB = RandomizedSearchCV(estimator=GB, param_distributions=gb_param, cv=3, scoring=\"accuracy\", n_jobs= -1, verbose = 1, n_iter=10)\n",
    "gsGB.fit(X_train,y_train)\n",
    "\n",
    "print(gsGB.best_estimator_)\n",
    "print(gsGB.best_score_)\n"
   ]
  },
  {
   "cell_type": "markdown",
   "id": "adfa88a1",
   "metadata": {},
   "source": [
    "**Fitting the Gradient Boost model with the optimal hyperparameters:**"
   ]
  },
  {
   "cell_type": "code",
   "execution_count": 71,
   "id": "7c831372",
   "metadata": {},
   "outputs": [
    {
     "name": "stdout",
     "output_type": "stream",
     "text": [
      "0.992619926199262\n",
      "0.4609427609427609\n"
     ]
    }
   ],
   "source": [
    "GB= GradientBoostingClassifier(criterion='friedman_mse', init=None,\n",
    "              learning_rate=0.1, loss='deviance', max_depth=8,\n",
    "              max_features=0.3, max_leaf_nodes=None,\n",
    "              min_impurity_decrease=0.0,\n",
    "              min_samples_leaf=100, min_samples_split=2,\n",
    "              min_weight_fraction_leaf=0.0, n_estimators=300,\n",
    "              random_state=None, subsample=1.0, verbose=0,\n",
    "              warm_start=False)\n",
    "GB.fit(X_train, y_train)\n",
    "y_predictions_GB = GB.predict(X_test)\n",
    "acc_GB = accuracy_score(y_test, y_predictions_GB)\n",
    "cv_GB = cross_val_score(GB, X_test, y_test,scoring='accuracy').mean()\n",
    "print(acc_GB)\n",
    "print(cv_GB)"
   ]
  },
  {
   "cell_type": "code",
   "execution_count": 72,
   "id": "469e4e8c",
   "metadata": {},
   "outputs": [],
   "source": [
    "output = pd.DataFrame({'Actual': y_test, 'Predicted': y_predictions_GB})\n",
    "output.to_csv('final_result_gb.csv', index=False, header=True)"
   ]
  },
  {
   "cell_type": "code",
   "execution_count": 82,
   "id": "3fcc3fef",
   "metadata": {},
   "outputs": [
    {
     "name": "stdout",
     "output_type": "stream",
     "text": [
      "                  Columns  Importance scores\n",
      "0                    Year           0.000000\n",
      "1               NA_ Sales           0.000000\n",
      "2                EU_Sales           0.000000\n",
      "3                JP_Sales           0.000000\n",
      "4             Other_Sales           0.000000\n",
      "...                   ...                ...\n",
      "1071  Publisher_Zoo Games           0.013787\n",
      "1072             Rating_E           0.018919\n",
      "1073          Rating_E10+           0.030990\n",
      "1074             Rating_M           0.065955\n",
      "1075             Rating_T           0.797339\n",
      "\n",
      "[1076 rows x 2 columns]\n"
     ]
    }
   ],
   "source": [
    "columns = X\n",
    "importances = list(GB.feature_importances_)\n",
    "imp=np.sort(importances)\n",
    "tab=pd.DataFrame(list(zip(X,imp)),columns =['Columns', 'Importance scores']) \n",
    "print(tab)\n"
   ]
  },
  {
   "cell_type": "code",
   "execution_count": 84,
   "id": "c95b1fe8",
   "metadata": {},
   "outputs": [
    {
     "name": "stdout",
     "output_type": "stream",
     "text": [
      "                  Columns  Importance scores\n",
      "0                    Year           0.000000\n",
      "1               NA_ Sales           0.000000\n",
      "2                EU_Sales           0.000000\n",
      "3                JP_Sales           0.000000\n",
      "4             Other_Sales           0.000000\n",
      "...                   ...                ...\n",
      "1071  Publisher_Zoo Games           0.013787\n",
      "1072             Rating_E           0.018919\n",
      "1073          Rating_E10+           0.030990\n",
      "1074             Rating_M           0.065955\n",
      "1075             Rating_T           0.797339\n",
      "\n",
      "[1076 rows x 2 columns]\n"
     ]
    }
   ],
   "source": [
    "print(tab)"
   ]
  },
  {
   "cell_type": "code",
   "execution_count": 110,
   "id": "51b13b1d",
   "metadata": {},
   "outputs": [
    {
     "data": {
      "image/png": "[encoded data removed]",
      "text/plain": [
       "<Figure size 1000x500 with 1 Axes>"
      ]
     },
     "metadata": {},
     "output_type": "display_data"
    }
   ],
   "source": [
    "# fit the GradientBoostingClassifier model\n",
    "model = GradientBoostingClassifier(random_state=0)\n",
    "model.fit(X_train, y_train)\n",
    "\n",
    "# extract feature importances\n",
    "importances = importances[:len(df.columns)]\n",
    "indices = np.argsort(importances)[::-1]\n",
    "\n",
    "# select the top n features\n",
    "n = 18\n",
    "indices = indices[:n]\n",
    "index = np.arange(n)\n",
    "imp = importances[indices]\n",
    "features = np.array(df.columns)[indices]\n",
    "\n",
    "# plot feature importances\n",
    "plt.figure(figsize=(10,5))\n",
    "_ = plt.barh(index, imp, align='center', color='gold', edgecolor='k')\n",
    "plt.xlabel('Relative Importance', fontsize=15)\n",
    "plt.ylabel('Features', fontsize=15)\n",
    "plt.yticks(index, features)\n",
    "plt.title('Feature Importances for Gradient Boost Classifier Model', fontsize=15)\n",
    "plt.savefig(\"29.png\")\n",
    "plt.show()\n",
    "\n"
   ]
  },
  {
   "cell_type": "code",
   "execution_count": 109,
   "id": "f0ad6ab8",
   "metadata": {},
   "outputs": [
    {
     "name": "stdout",
     "output_type": "stream",
     "text": [
      "(20,)\n",
      "(1076,)\n"
     ]
    }
   ],
   "source": [
    "print(df.columns.shape) \n",
    "print(importances.shape)"
   ]
  },
  {
   "cell_type": "markdown",
   "id": "f9e8a9cf",
   "metadata": {},
   "source": [
    "**ROC-AUC Score and the ROC curve:**"
   ]
  },
  {
   "cell_type": "code",
   "execution_count": 111,
   "id": "34f1a99e",
   "metadata": {},
   "outputs": [
    {
     "ename": "ValueError",
     "evalue": "multi_class must be in ('ovo', 'ovr')",
     "output_type": "error",
     "traceback": [
      "\u001b[1;31m---------------------------------------------------------------------------\u001b[0m",
      "\u001b[1;31mValueError\u001b[0m                                Traceback (most recent call last)",
      "Cell \u001b[1;32mIn[111], line 4\u001b[0m\n\u001b[0;32m      2\u001b[0m y_scores_gb \u001b[38;5;241m=\u001b[39m GB\u001b[38;5;241m.\u001b[39mpredict_proba(X_test)\n\u001b[0;32m      3\u001b[0m y_scores_gb \u001b[38;5;241m=\u001b[39m y_scores_gb[:,\u001b[38;5;241m1\u001b[39m]\n\u001b[1;32m----> 4\u001b[0m auroc \u001b[38;5;241m=\u001b[39m \u001b[43mroc_auc_score\u001b[49m\u001b[43m(\u001b[49m\u001b[43my_test\u001b[49m\u001b[43m,\u001b[49m\u001b[43m \u001b[49m\u001b[43my_scores_gb\u001b[49m\u001b[43m)\u001b[49m\n\u001b[0;32m      5\u001b[0m \u001b[38;5;28mprint\u001b[39m(\u001b[38;5;124m\"\u001b[39m\u001b[38;5;124mROC-AUC Score:\u001b[39m\u001b[38;5;124m\"\u001b[39m, auroc)\n",
      "File \u001b[1;32m~\\AppData\\Local\\anaconda3\\lib\\site-packages\\sklearn\\metrics\\_ranking.py:565\u001b[0m, in \u001b[0;36mroc_auc_score\u001b[1;34m(y_true, y_score, average, sample_weight, max_fpr, multi_class, labels)\u001b[0m\n\u001b[0;32m    558\u001b[0m         \u001b[38;5;28;01mraise\u001b[39;00m \u001b[38;5;167;01mValueError\u001b[39;00m(\n\u001b[0;32m    559\u001b[0m             \u001b[38;5;124m\"\u001b[39m\u001b[38;5;124mPartial AUC computation not available in \u001b[39m\u001b[38;5;124m\"\u001b[39m\n\u001b[0;32m    560\u001b[0m             \u001b[38;5;124m\"\u001b[39m\u001b[38;5;124mmulticlass setting, \u001b[39m\u001b[38;5;124m'\u001b[39m\u001b[38;5;124mmax_fpr\u001b[39m\u001b[38;5;124m'\u001b[39m\u001b[38;5;124m must be\u001b[39m\u001b[38;5;124m\"\u001b[39m\n\u001b[0;32m    561\u001b[0m             \u001b[38;5;124m\"\u001b[39m\u001b[38;5;124m set to `None`, received `max_fpr=\u001b[39m\u001b[38;5;132;01m{0}\u001b[39;00m\u001b[38;5;124m` \u001b[39m\u001b[38;5;124m\"\u001b[39m\n\u001b[0;32m    562\u001b[0m             \u001b[38;5;124m\"\u001b[39m\u001b[38;5;124minstead\u001b[39m\u001b[38;5;124m\"\u001b[39m\u001b[38;5;241m.\u001b[39mformat(max_fpr)\n\u001b[0;32m    563\u001b[0m         )\n\u001b[0;32m    564\u001b[0m     \u001b[38;5;28;01mif\u001b[39;00m multi_class \u001b[38;5;241m==\u001b[39m \u001b[38;5;124m\"\u001b[39m\u001b[38;5;124mraise\u001b[39m\u001b[38;5;124m\"\u001b[39m:\n\u001b[1;32m--> 565\u001b[0m         \u001b[38;5;28;01mraise\u001b[39;00m \u001b[38;5;167;01mValueError\u001b[39;00m(\u001b[38;5;124m\"\u001b[39m\u001b[38;5;124mmulti_class must be in (\u001b[39m\u001b[38;5;124m'\u001b[39m\u001b[38;5;124movo\u001b[39m\u001b[38;5;124m'\u001b[39m\u001b[38;5;124m, \u001b[39m\u001b[38;5;124m'\u001b[39m\u001b[38;5;124movr\u001b[39m\u001b[38;5;124m'\u001b[39m\u001b[38;5;124m)\u001b[39m\u001b[38;5;124m\"\u001b[39m)\n\u001b[0;32m    566\u001b[0m     \u001b[38;5;28;01mreturn\u001b[39;00m _multiclass_roc_auc_score(\n\u001b[0;32m    567\u001b[0m         y_true, y_score, labels, multi_class, average, sample_weight\n\u001b[0;32m    568\u001b[0m     )\n\u001b[0;32m    569\u001b[0m \u001b[38;5;28;01melif\u001b[39;00m y_type \u001b[38;5;241m==\u001b[39m \u001b[38;5;124m\"\u001b[39m\u001b[38;5;124mbinary\u001b[39m\u001b[38;5;124m\"\u001b[39m:\n",
      "\u001b[1;31mValueError\u001b[0m: multi_class must be in ('ovo', 'ovr')"
     ]
    }
   ],
   "source": []
  },
  {
   "cell_type": "markdown",
   "id": "308dfda2",
   "metadata": {},
   "source": [
    "**Conclusion**"
   ]
  },
  {
   "cell_type": "code",
   "execution_count": null,
   "id": "c904f53f",
   "metadata": {},
   "outputs": [],
   "source": []
  }
 ],
 "metadata": {
  "kernelspec": {
   "display_name": "Python 3 (ipykernel)",
   "language": "python",
   "name": "python3"
  },
  "language_info": {
   "codemirror_mode": {
    "name": "ipython",
    "version": 3
   },
   "file_extension": ".py",
   "mimetype": "text/x-python",
   "name": "python",
   "nbconvert_exporter": "python",
   "pygments_lexer": "ipython3",
   "version": "3.10.9"
  }
 },
 "nbformat": 4,
 "nbformat_minor": 5
}
