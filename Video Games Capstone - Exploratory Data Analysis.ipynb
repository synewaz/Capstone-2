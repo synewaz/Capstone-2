{
 "cells": [
  {
   "cell_type": "markdown",
   "id": "ba18e4cc",
   "metadata": {},
   "source": [
    "Conduct an EDA on Video Game Sales to examine the relationships between sales, genre and publishing company and platform"
   ]
  },
  {
   "cell_type": "code",
   "execution_count": 1,
   "id": "7518fb8e",
   "metadata": {},
   "outputs": [],
   "source": [
    "# Import relevant libraries and packages.\n",
    "import numpy as np \n",
    "import pandas as pd \n",
    "import matplotlib.pyplot as plt \n",
    "import seaborn as sns # For all our visualization needs.\n",
    "import statsmodels.api as sm \n",
    "from statsmodels.graphics.api import abline_plot \n",
    "from sklearn.metrics import mean_squared_error, r2_score \n",
    "from sklearn.model_selection import train_test_split\n",
    "from sklearn import linear_model, preprocessing \n",
    "from sklearn.linear_model import LogisticRegression\n",
    "import warnings # For handling error messages.\n",
    "\n",
    "warnings.simplefilter(action=\"ignore\", category=FutureWarning)\n",
    "warnings.filterwarnings(action=\"ignore\", module=\"scipy\", message=\"^internal gelsd\")"
   ]
  },
  {
   "cell_type": "code",
   "execution_count": 2,
   "id": "3d0a7b38",
   "metadata": {},
   "outputs": [],
   "source": [
    "#Load Data\n",
    "df = pd.read_csv('Video_Games_Sales_Cleaned.csv')"
   ]
  },
  {
   "cell_type": "code",
   "execution_count": 3,
   "id": "156c8b47",
   "metadata": {},
   "outputs": [
    {
     "data": {
      "text/html": [
       "<div>\n",
       "<style scoped>\n",
       "    .dataframe tbody tr th:only-of-type {\n",
       "        vertical-align: middle;\n",
       "    }\n",
       "\n",
       "    .dataframe tbody tr th {\n",
       "        vertical-align: top;\n",
       "    }\n",
       "\n",
       "    .dataframe thead th {\n",
       "        text-align: right;\n",
       "    }\n",
       "</style>\n",
       "<table border=\"1\" class=\"dataframe\">\n",
       "  <thead>\n",
       "    <tr style=\"text-align: right;\">\n",
       "      <th></th>\n",
       "      <th>Unnamed: 0</th>\n",
       "      <th>Rank</th>\n",
       "      <th>Name</th>\n",
       "      <th>Platform</th>\n",
       "      <th>Year</th>\n",
       "      <th>Genre</th>\n",
       "      <th>Publisher</th>\n",
       "      <th>NA_ Sales</th>\n",
       "      <th>EU_Sales</th>\n",
       "      <th>JP_Sales</th>\n",
       "      <th>Other_Sales</th>\n",
       "      <th>Global_Sales</th>\n",
       "      <th>Critic_Score</th>\n",
       "      <th>User_Score</th>\n",
       "      <th>Rating</th>\n",
       "    </tr>\n",
       "  </thead>\n",
       "  <tbody>\n",
       "    <tr>\n",
       "      <th>0</th>\n",
       "      <td>0</td>\n",
       "      <td>1</td>\n",
       "      <td>Wii Sports</td>\n",
       "      <td>Wii</td>\n",
       "      <td>2006.0</td>\n",
       "      <td>Sports</td>\n",
       "      <td>Nintendo</td>\n",
       "      <td>41.49</td>\n",
       "      <td>29.02</td>\n",
       "      <td>3.77</td>\n",
       "      <td>8.46</td>\n",
       "      <td>82.74</td>\n",
       "      <td>76.0</td>\n",
       "      <td>8</td>\n",
       "      <td>E</td>\n",
       "    </tr>\n",
       "    <tr>\n",
       "      <th>1</th>\n",
       "      <td>1</td>\n",
       "      <td>3</td>\n",
       "      <td>Mario Kart Wii</td>\n",
       "      <td>Wii</td>\n",
       "      <td>2008.0</td>\n",
       "      <td>Racing</td>\n",
       "      <td>Nintendo</td>\n",
       "      <td>15.85</td>\n",
       "      <td>12.88</td>\n",
       "      <td>3.79</td>\n",
       "      <td>3.31</td>\n",
       "      <td>35.82</td>\n",
       "      <td>82.0</td>\n",
       "      <td>8.3</td>\n",
       "      <td>E</td>\n",
       "    </tr>\n",
       "    <tr>\n",
       "      <th>2</th>\n",
       "      <td>2</td>\n",
       "      <td>4</td>\n",
       "      <td>Wii Sports Resort</td>\n",
       "      <td>Wii</td>\n",
       "      <td>2009.0</td>\n",
       "      <td>Sports</td>\n",
       "      <td>Nintendo</td>\n",
       "      <td>15.75</td>\n",
       "      <td>11.01</td>\n",
       "      <td>3.28</td>\n",
       "      <td>2.96</td>\n",
       "      <td>33.00</td>\n",
       "      <td>80.0</td>\n",
       "      <td>8</td>\n",
       "      <td>E</td>\n",
       "    </tr>\n",
       "    <tr>\n",
       "      <th>3</th>\n",
       "      <td>3</td>\n",
       "      <td>7</td>\n",
       "      <td>New Super Mario Bros.</td>\n",
       "      <td>DS</td>\n",
       "      <td>2006.0</td>\n",
       "      <td>Platform</td>\n",
       "      <td>Nintendo</td>\n",
       "      <td>11.38</td>\n",
       "      <td>9.23</td>\n",
       "      <td>6.50</td>\n",
       "      <td>2.90</td>\n",
       "      <td>30.01</td>\n",
       "      <td>89.0</td>\n",
       "      <td>8.5</td>\n",
       "      <td>E</td>\n",
       "    </tr>\n",
       "    <tr>\n",
       "      <th>4</th>\n",
       "      <td>4</td>\n",
       "      <td>8</td>\n",
       "      <td>Wii Play</td>\n",
       "      <td>Wii</td>\n",
       "      <td>2006.0</td>\n",
       "      <td>Misc</td>\n",
       "      <td>Nintendo</td>\n",
       "      <td>14.03</td>\n",
       "      <td>9.20</td>\n",
       "      <td>2.93</td>\n",
       "      <td>2.85</td>\n",
       "      <td>29.02</td>\n",
       "      <td>58.0</td>\n",
       "      <td>6.6</td>\n",
       "      <td>E</td>\n",
       "    </tr>\n",
       "  </tbody>\n",
       "</table>\n",
       "</div>"
      ],
      "text/plain": [
       "   Unnamed: 0  Rank                   Name Platform    Year     Genre  \\\n",
       "0           0     1             Wii Sports      Wii  2006.0    Sports   \n",
       "1           1     3         Mario Kart Wii      Wii  2008.0    Racing   \n",
       "2           2     4      Wii Sports Resort      Wii  2009.0    Sports   \n",
       "3           3     7  New Super Mario Bros.       DS  2006.0  Platform   \n",
       "4           4     8               Wii Play      Wii  2006.0      Misc   \n",
       "\n",
       "  Publisher  NA_ Sales  EU_Sales  JP_Sales  Other_Sales  Global_Sales  \\\n",
       "0  Nintendo      41.49     29.02      3.77         8.46         82.74   \n",
       "1  Nintendo      15.85     12.88      3.79         3.31         35.82   \n",
       "2  Nintendo      15.75     11.01      3.28         2.96         33.00   \n",
       "3  Nintendo      11.38      9.23      6.50         2.90         30.01   \n",
       "4  Nintendo      14.03      9.20      2.93         2.85         29.02   \n",
       "\n",
       "   Critic_Score User_Score Rating  \n",
       "0          76.0          8      E  \n",
       "1          82.0        8.3      E  \n",
       "2          80.0          8      E  \n",
       "3          89.0        8.5      E  \n",
       "4          58.0        6.6      E  "
      ]
     },
     "execution_count": 3,
     "metadata": {},
     "output_type": "execute_result"
    }
   ],
   "source": [
    "#check out appearance of data \n",
    "df.head()"
   ]
  },
  {
   "cell_type": "code",
   "execution_count": 4,
   "id": "c6f367e3",
   "metadata": {},
   "outputs": [
    {
     "name": "stdout",
     "output_type": "stream",
     "text": [
      "<class 'pandas.core.frame.DataFrame'>\n",
      "RangeIndex: 1373 entries, 0 to 1372\n",
      "Data columns (total 15 columns):\n",
      " #   Column        Non-Null Count  Dtype  \n",
      "---  ------        --------------  -----  \n",
      " 0   Unnamed: 0    1373 non-null   int64  \n",
      " 1   Rank          1373 non-null   int64  \n",
      " 2   Name          1373 non-null   object \n",
      " 3   Platform      1373 non-null   object \n",
      " 4   Year          1373 non-null   float64\n",
      " 5   Genre         1373 non-null   object \n",
      " 6   Publisher     1373 non-null   object \n",
      " 7   NA_ Sales     1373 non-null   float64\n",
      " 8   EU_Sales      1373 non-null   float64\n",
      " 9   JP_Sales      1373 non-null   float64\n",
      " 10  Other_Sales   1373 non-null   float64\n",
      " 11  Global_Sales  1373 non-null   float64\n",
      " 12  Critic_Score  1373 non-null   float64\n",
      " 13  User_Score    1373 non-null   object \n",
      " 14  Rating        1372 non-null   object \n",
      "dtypes: float64(7), int64(2), object(6)\n",
      "memory usage: 161.0+ KB\n"
     ]
    }
   ],
   "source": [
    "df.info()"
   ]
  },
  {
   "cell_type": "markdown",
   "id": "2638b775",
   "metadata": {},
   "source": [
    "Before conducting the EDA, let's perform some data cleaning. First, we'll remove the Unnamed: 0 column as it is redundant.\n",
    "Second, we'll convert the Year column to integer. Third, we'll convert the User_Score column to float. We'll also drop the tbd values. Fourth, we'll drop any rows with missing values in the Rating column.\n",
    "Fifth, we'll convert the Rank column to an index.\n",
    "Finally, we'll create a new column called Total_Sales which is the sum of the sales in all regions. This will make it easier to compare total sales across different genres, publishers, and regions."
   ]
  },
  {
   "cell_type": "code",
   "execution_count": 5,
   "id": "f6e3d467",
   "metadata": {},
   "outputs": [],
   "source": [
    "#Remove the Unnamed: 0 column\n",
    "df.drop('Unnamed: 0', axis=1, inplace=True)"
   ]
  },
  {
   "cell_type": "code",
   "execution_count": 6,
   "id": "053b6e27",
   "metadata": {},
   "outputs": [],
   "source": [
    "#Convert the Year column to integer\n",
    "df['Year'] = df['Year'].astype(int)"
   ]
  },
  {
   "cell_type": "code",
   "execution_count": 7,
   "id": "95e5e117",
   "metadata": {},
   "outputs": [
    {
     "data": {
      "text/plain": [
       "array(['8', '8.3', '8.5', '6.6', '8.4', '8.6', '7.7', '7.4', '6.3', '8.2',\n",
       "       '9', '7.9', '8.7', '7.1', '3.4', '5.3', '8.9', '7.8', '7.5', '2.6',\n",
       "       '7.2', '7', '7.3', '4.3', '7.6', '9.1', '5.7', '6.5', '5.5', '8.8',\n",
       "       '6.9', '6.8', '6.1', '4', '8.1', '5', '6.4', '9.3', '6', 'tbd',\n",
       "       '4.9', '6.7', '9.2', '4.6', '5.9', '5.4', '5.8', '3.9', '5.6',\n",
       "       '6.2', '2.9', '9.4', '5.2', '4.1', '4.5', '4.8', '3.5', '1.9',\n",
       "       '3.1', '2.2', '2', '9.5', '5.1', '3.3', '4.4', '2.1'], dtype=object)"
      ]
     },
     "execution_count": 7,
     "metadata": {},
     "output_type": "execute_result"
    }
   ],
   "source": [
    "df['User_Score'].unique()"
   ]
  },
  {
   "cell_type": "code",
   "execution_count": 8,
   "id": "7f994fea",
   "metadata": {},
   "outputs": [
    {
     "data": {
      "text/html": [
       "<div>\n",
       "<style scoped>\n",
       "    .dataframe tbody tr th:only-of-type {\n",
       "        vertical-align: middle;\n",
       "    }\n",
       "\n",
       "    .dataframe tbody tr th {\n",
       "        vertical-align: top;\n",
       "    }\n",
       "\n",
       "    .dataframe thead th {\n",
       "        text-align: right;\n",
       "    }\n",
       "</style>\n",
       "<table border=\"1\" class=\"dataframe\">\n",
       "  <thead>\n",
       "    <tr style=\"text-align: right;\">\n",
       "      <th></th>\n",
       "      <th>Rank</th>\n",
       "      <th>Name</th>\n",
       "      <th>Platform</th>\n",
       "      <th>Year</th>\n",
       "      <th>Genre</th>\n",
       "      <th>Publisher</th>\n",
       "      <th>NA_ Sales</th>\n",
       "      <th>EU_Sales</th>\n",
       "      <th>JP_Sales</th>\n",
       "      <th>Other_Sales</th>\n",
       "      <th>Global_Sales</th>\n",
       "      <th>Critic_Score</th>\n",
       "      <th>User_Score</th>\n",
       "      <th>Rating</th>\n",
       "    </tr>\n",
       "  </thead>\n",
       "  <tbody>\n",
       "    <tr>\n",
       "      <th>198</th>\n",
       "      <td>303</td>\n",
       "      <td>Namco Museum: 50th Anniversary</td>\n",
       "      <td>PS2</td>\n",
       "      <td>2005</td>\n",
       "      <td>Misc</td>\n",
       "      <td>Namco Bandai Games</td>\n",
       "      <td>2.08</td>\n",
       "      <td>1.35</td>\n",
       "      <td>0.00</td>\n",
       "      <td>0.54</td>\n",
       "      <td>3.98</td>\n",
       "      <td>61.0</td>\n",
       "      <td>tbd</td>\n",
       "      <td>E10+</td>\n",
       "    </tr>\n",
       "    <tr>\n",
       "      <th>422</th>\n",
       "      <td>628</td>\n",
       "      <td>uDraw Studio</td>\n",
       "      <td>Wii</td>\n",
       "      <td>2010</td>\n",
       "      <td>Misc</td>\n",
       "      <td>THQ</td>\n",
       "      <td>1.67</td>\n",
       "      <td>0.58</td>\n",
       "      <td>0.00</td>\n",
       "      <td>0.20</td>\n",
       "      <td>2.46</td>\n",
       "      <td>71.0</td>\n",
       "      <td>tbd</td>\n",
       "      <td>E</td>\n",
       "    </tr>\n",
       "    <tr>\n",
       "      <th>693</th>\n",
       "      <td>1043</td>\n",
       "      <td>Game Party 3</td>\n",
       "      <td>Wii</td>\n",
       "      <td>2009</td>\n",
       "      <td>Puzzle</td>\n",
       "      <td>Warner Bros. Interactive Entertainment</td>\n",
       "      <td>1.43</td>\n",
       "      <td>0.16</td>\n",
       "      <td>0.00</td>\n",
       "      <td>0.12</td>\n",
       "      <td>1.71</td>\n",
       "      <td>37.0</td>\n",
       "      <td>tbd</td>\n",
       "      <td>E</td>\n",
       "    </tr>\n",
       "    <tr>\n",
       "      <th>701</th>\n",
       "      <td>1054</td>\n",
       "      <td>Personal Trainer: Math</td>\n",
       "      <td>DS</td>\n",
       "      <td>2007</td>\n",
       "      <td>Puzzle</td>\n",
       "      <td>Nintendo</td>\n",
       "      <td>0.49</td>\n",
       "      <td>1.12</td>\n",
       "      <td>0.00</td>\n",
       "      <td>0.09</td>\n",
       "      <td>1.70</td>\n",
       "      <td>63.0</td>\n",
       "      <td>tbd</td>\n",
       "      <td>E</td>\n",
       "    </tr>\n",
       "    <tr>\n",
       "      <th>768</th>\n",
       "      <td>1148</td>\n",
       "      <td>SpongeBob's Atlantis SquarePantis</td>\n",
       "      <td>DS</td>\n",
       "      <td>2007</td>\n",
       "      <td>Action</td>\n",
       "      <td>THQ</td>\n",
       "      <td>1.50</td>\n",
       "      <td>0.00</td>\n",
       "      <td>0.00</td>\n",
       "      <td>0.11</td>\n",
       "      <td>1.61</td>\n",
       "      <td>64.0</td>\n",
       "      <td>tbd</td>\n",
       "      <td>E</td>\n",
       "    </tr>\n",
       "    <tr>\n",
       "      <th>784</th>\n",
       "      <td>1173</td>\n",
       "      <td>MySims Kingdom</td>\n",
       "      <td>DS</td>\n",
       "      <td>2008</td>\n",
       "      <td>Simulation</td>\n",
       "      <td>Electronic Arts</td>\n",
       "      <td>0.81</td>\n",
       "      <td>0.60</td>\n",
       "      <td>0.01</td>\n",
       "      <td>0.17</td>\n",
       "      <td>1.58</td>\n",
       "      <td>58.0</td>\n",
       "      <td>tbd</td>\n",
       "      <td>E</td>\n",
       "    </tr>\n",
       "    <tr>\n",
       "      <th>820</th>\n",
       "      <td>1221</td>\n",
       "      <td>MySims Kingdom</td>\n",
       "      <td>Wii</td>\n",
       "      <td>2008</td>\n",
       "      <td>Simulation</td>\n",
       "      <td>Electronic Arts</td>\n",
       "      <td>0.71</td>\n",
       "      <td>0.65</td>\n",
       "      <td>0.01</td>\n",
       "      <td>0.17</td>\n",
       "      <td>1.53</td>\n",
       "      <td>58.0</td>\n",
       "      <td>tbd</td>\n",
       "      <td>E</td>\n",
       "    </tr>\n",
       "    <tr>\n",
       "      <th>865</th>\n",
       "      <td>1303</td>\n",
       "      <td>Midway Arcade Treasures</td>\n",
       "      <td>PS2</td>\n",
       "      <td>2003</td>\n",
       "      <td>Misc</td>\n",
       "      <td>Midway Games</td>\n",
       "      <td>0.72</td>\n",
       "      <td>0.56</td>\n",
       "      <td>0.00</td>\n",
       "      <td>0.19</td>\n",
       "      <td>1.46</td>\n",
       "      <td>76.0</td>\n",
       "      <td>tbd</td>\n",
       "      <td>T</td>\n",
       "    </tr>\n",
       "    <tr>\n",
       "      <th>866</th>\n",
       "      <td>1304</td>\n",
       "      <td>Wall-E</td>\n",
       "      <td>DS</td>\n",
       "      <td>2008</td>\n",
       "      <td>Platform</td>\n",
       "      <td>THQ</td>\n",
       "      <td>0.46</td>\n",
       "      <td>0.83</td>\n",
       "      <td>0.00</td>\n",
       "      <td>0.17</td>\n",
       "      <td>1.46</td>\n",
       "      <td>54.0</td>\n",
       "      <td>tbd</td>\n",
       "      <td>E</td>\n",
       "    </tr>\n",
       "    <tr>\n",
       "      <th>951</th>\n",
       "      <td>1428</td>\n",
       "      <td>SingStar Abba</td>\n",
       "      <td>PS2</td>\n",
       "      <td>2008</td>\n",
       "      <td>Misc</td>\n",
       "      <td>Sony Computer Entertainment</td>\n",
       "      <td>0.23</td>\n",
       "      <td>0.04</td>\n",
       "      <td>0.00</td>\n",
       "      <td>1.09</td>\n",
       "      <td>1.36</td>\n",
       "      <td>64.0</td>\n",
       "      <td>tbd</td>\n",
       "      <td>T</td>\n",
       "    </tr>\n",
       "    <tr>\n",
       "      <th>1022</th>\n",
       "      <td>1537</td>\n",
       "      <td>Mystery Case Files: MillionHeir</td>\n",
       "      <td>DS</td>\n",
       "      <td>2008</td>\n",
       "      <td>Adventure</td>\n",
       "      <td>Nintendo</td>\n",
       "      <td>0.76</td>\n",
       "      <td>0.40</td>\n",
       "      <td>0.00</td>\n",
       "      <td>0.12</td>\n",
       "      <td>1.29</td>\n",
       "      <td>65.0</td>\n",
       "      <td>tbd</td>\n",
       "      <td>E</td>\n",
       "    </tr>\n",
       "    <tr>\n",
       "      <th>1153</th>\n",
       "      <td>1742</td>\n",
       "      <td>EA Sports Active: More Workouts</td>\n",
       "      <td>Wii</td>\n",
       "      <td>2009</td>\n",
       "      <td>Sports</td>\n",
       "      <td>Electronic Arts</td>\n",
       "      <td>0.78</td>\n",
       "      <td>0.28</td>\n",
       "      <td>0.00</td>\n",
       "      <td>0.10</td>\n",
       "      <td>1.16</td>\n",
       "      <td>80.0</td>\n",
       "      <td>tbd</td>\n",
       "      <td>E</td>\n",
       "    </tr>\n",
       "    <tr>\n",
       "      <th>1178</th>\n",
       "      <td>1784</td>\n",
       "      <td>Action Bass</td>\n",
       "      <td>PS</td>\n",
       "      <td>2000</td>\n",
       "      <td>Action</td>\n",
       "      <td>Take-Two Interactive</td>\n",
       "      <td>0.64</td>\n",
       "      <td>0.43</td>\n",
       "      <td>0.00</td>\n",
       "      <td>0.07</td>\n",
       "      <td>1.14</td>\n",
       "      <td>51.0</td>\n",
       "      <td>tbd</td>\n",
       "      <td>E</td>\n",
       "    </tr>\n",
       "    <tr>\n",
       "      <th>1224</th>\n",
       "      <td>1866</td>\n",
       "      <td>SingStar Legends</td>\n",
       "      <td>PS2</td>\n",
       "      <td>2006</td>\n",
       "      <td>Misc</td>\n",
       "      <td>Sony Computer Entertainment</td>\n",
       "      <td>0.12</td>\n",
       "      <td>0.75</td>\n",
       "      <td>0.00</td>\n",
       "      <td>0.23</td>\n",
       "      <td>1.10</td>\n",
       "      <td>76.0</td>\n",
       "      <td>tbd</td>\n",
       "      <td>T</td>\n",
       "    </tr>\n",
       "    <tr>\n",
       "      <th>1250</th>\n",
       "      <td>1899</td>\n",
       "      <td>The Biggest Loser</td>\n",
       "      <td>Wii</td>\n",
       "      <td>2009</td>\n",
       "      <td>Sports</td>\n",
       "      <td>THQ</td>\n",
       "      <td>0.87</td>\n",
       "      <td>0.12</td>\n",
       "      <td>0.00</td>\n",
       "      <td>0.09</td>\n",
       "      <td>1.08</td>\n",
       "      <td>63.0</td>\n",
       "      <td>tbd</td>\n",
       "      <td>E</td>\n",
       "    </tr>\n",
       "    <tr>\n",
       "      <th>1251</th>\n",
       "      <td>1901</td>\n",
       "      <td>MySims Agents</td>\n",
       "      <td>DS</td>\n",
       "      <td>2009</td>\n",
       "      <td>Adventure</td>\n",
       "      <td>Electronic Arts</td>\n",
       "      <td>0.55</td>\n",
       "      <td>0.43</td>\n",
       "      <td>0.00</td>\n",
       "      <td>0.11</td>\n",
       "      <td>1.08</td>\n",
       "      <td>60.0</td>\n",
       "      <td>tbd</td>\n",
       "      <td>E</td>\n",
       "    </tr>\n",
       "    <tr>\n",
       "      <th>1291</th>\n",
       "      <td>1958</td>\n",
       "      <td>Dora the Explorer: Dora Saves the Mermaids</td>\n",
       "      <td>DS</td>\n",
       "      <td>2007</td>\n",
       "      <td>Platform</td>\n",
       "      <td>Take-Two Interactive</td>\n",
       "      <td>0.97</td>\n",
       "      <td>0.01</td>\n",
       "      <td>0.00</td>\n",
       "      <td>0.08</td>\n",
       "      <td>1.06</td>\n",
       "      <td>44.0</td>\n",
       "      <td>tbd</td>\n",
       "      <td>E</td>\n",
       "    </tr>\n",
       "    <tr>\n",
       "      <th>1312</th>\n",
       "      <td>1986</td>\n",
       "      <td>MySims Agents</td>\n",
       "      <td>Wii</td>\n",
       "      <td>2009</td>\n",
       "      <td>Adventure</td>\n",
       "      <td>Electronic Arts</td>\n",
       "      <td>0.62</td>\n",
       "      <td>0.32</td>\n",
       "      <td>0.00</td>\n",
       "      <td>0.10</td>\n",
       "      <td>1.05</td>\n",
       "      <td>60.0</td>\n",
       "      <td>tbd</td>\n",
       "      <td>E</td>\n",
       "    </tr>\n",
       "    <tr>\n",
       "      <th>1318</th>\n",
       "      <td>1996</td>\n",
       "      <td>ATV: Quad Power Racing</td>\n",
       "      <td>PS</td>\n",
       "      <td>2000</td>\n",
       "      <td>Racing</td>\n",
       "      <td>Acclaim Entertainment</td>\n",
       "      <td>0.58</td>\n",
       "      <td>0.39</td>\n",
       "      <td>0.00</td>\n",
       "      <td>0.07</td>\n",
       "      <td>1.04</td>\n",
       "      <td>42.0</td>\n",
       "      <td>tbd</td>\n",
       "      <td>E</td>\n",
       "    </tr>\n",
       "    <tr>\n",
       "      <th>1347</th>\n",
       "      <td>2036</td>\n",
       "      <td>Wall-E</td>\n",
       "      <td>Wii</td>\n",
       "      <td>2008</td>\n",
       "      <td>Platform</td>\n",
       "      <td>THQ</td>\n",
       "      <td>0.51</td>\n",
       "      <td>0.40</td>\n",
       "      <td>0.00</td>\n",
       "      <td>0.11</td>\n",
       "      <td>1.02</td>\n",
       "      <td>54.0</td>\n",
       "      <td>tbd</td>\n",
       "      <td>E</td>\n",
       "    </tr>\n",
       "    <tr>\n",
       "      <th>1365</th>\n",
       "      <td>2071</td>\n",
       "      <td>NFL GameDay 2001</td>\n",
       "      <td>PS</td>\n",
       "      <td>2000</td>\n",
       "      <td>Sports</td>\n",
       "      <td>Sony Computer Entertainment</td>\n",
       "      <td>0.56</td>\n",
       "      <td>0.38</td>\n",
       "      <td>0.00</td>\n",
       "      <td>0.07</td>\n",
       "      <td>1.00</td>\n",
       "      <td>73.0</td>\n",
       "      <td>tbd</td>\n",
       "      <td>E</td>\n",
       "    </tr>\n",
       "    <tr>\n",
       "      <th>1372</th>\n",
       "      <td>2081</td>\n",
       "      <td>Puzzler Collection</td>\n",
       "      <td>DS</td>\n",
       "      <td>2008</td>\n",
       "      <td>Puzzle</td>\n",
       "      <td>Ubisoft</td>\n",
       "      <td>0.17</td>\n",
       "      <td>0.78</td>\n",
       "      <td>0.00</td>\n",
       "      <td>0.04</td>\n",
       "      <td>1.00</td>\n",
       "      <td>71.0</td>\n",
       "      <td>tbd</td>\n",
       "      <td>E</td>\n",
       "    </tr>\n",
       "  </tbody>\n",
       "</table>\n",
       "</div>"
      ],
      "text/plain": [
       "      Rank                                        Name Platform  Year  \\\n",
       "198    303              Namco Museum: 50th Anniversary      PS2  2005   \n",
       "422    628                                uDraw Studio      Wii  2010   \n",
       "693   1043                                Game Party 3      Wii  2009   \n",
       "701   1054                      Personal Trainer: Math       DS  2007   \n",
       "768   1148           SpongeBob's Atlantis SquarePantis       DS  2007   \n",
       "784   1173                              MySims Kingdom       DS  2008   \n",
       "820   1221                              MySims Kingdom      Wii  2008   \n",
       "865   1303                     Midway Arcade Treasures      PS2  2003   \n",
       "866   1304                                      Wall-E       DS  2008   \n",
       "951   1428                               SingStar Abba      PS2  2008   \n",
       "1022  1537             Mystery Case Files: MillionHeir       DS  2008   \n",
       "1153  1742             EA Sports Active: More Workouts      Wii  2009   \n",
       "1178  1784                                 Action Bass       PS  2000   \n",
       "1224  1866                            SingStar Legends      PS2  2006   \n",
       "1250  1899                           The Biggest Loser      Wii  2009   \n",
       "1251  1901                               MySims Agents       DS  2009   \n",
       "1291  1958  Dora the Explorer: Dora Saves the Mermaids       DS  2007   \n",
       "1312  1986                               MySims Agents      Wii  2009   \n",
       "1318  1996                      ATV: Quad Power Racing       PS  2000   \n",
       "1347  2036                                      Wall-E      Wii  2008   \n",
       "1365  2071                            NFL GameDay 2001       PS  2000   \n",
       "1372  2081                          Puzzler Collection       DS  2008   \n",
       "\n",
       "           Genre                               Publisher  NA_ Sales  EU_Sales  \\\n",
       "198         Misc                      Namco Bandai Games       2.08      1.35   \n",
       "422         Misc                                     THQ       1.67      0.58   \n",
       "693       Puzzle  Warner Bros. Interactive Entertainment       1.43      0.16   \n",
       "701       Puzzle                                Nintendo       0.49      1.12   \n",
       "768       Action                                     THQ       1.50      0.00   \n",
       "784   Simulation                         Electronic Arts       0.81      0.60   \n",
       "820   Simulation                         Electronic Arts       0.71      0.65   \n",
       "865         Misc                            Midway Games       0.72      0.56   \n",
       "866     Platform                                     THQ       0.46      0.83   \n",
       "951         Misc             Sony Computer Entertainment       0.23      0.04   \n",
       "1022   Adventure                                Nintendo       0.76      0.40   \n",
       "1153      Sports                         Electronic Arts       0.78      0.28   \n",
       "1178      Action                    Take-Two Interactive       0.64      0.43   \n",
       "1224        Misc             Sony Computer Entertainment       0.12      0.75   \n",
       "1250      Sports                                     THQ       0.87      0.12   \n",
       "1251   Adventure                         Electronic Arts       0.55      0.43   \n",
       "1291    Platform                    Take-Two Interactive       0.97      0.01   \n",
       "1312   Adventure                         Electronic Arts       0.62      0.32   \n",
       "1318      Racing                   Acclaim Entertainment       0.58      0.39   \n",
       "1347    Platform                                     THQ       0.51      0.40   \n",
       "1365      Sports             Sony Computer Entertainment       0.56      0.38   \n",
       "1372      Puzzle                                 Ubisoft       0.17      0.78   \n",
       "\n",
       "      JP_Sales  Other_Sales  Global_Sales  Critic_Score User_Score Rating  \n",
       "198       0.00         0.54          3.98          61.0        tbd   E10+  \n",
       "422       0.00         0.20          2.46          71.0        tbd      E  \n",
       "693       0.00         0.12          1.71          37.0        tbd      E  \n",
       "701       0.00         0.09          1.70          63.0        tbd      E  \n",
       "768       0.00         0.11          1.61          64.0        tbd      E  \n",
       "784       0.01         0.17          1.58          58.0        tbd      E  \n",
       "820       0.01         0.17          1.53          58.0        tbd      E  \n",
       "865       0.00         0.19          1.46          76.0        tbd      T  \n",
       "866       0.00         0.17          1.46          54.0        tbd      E  \n",
       "951       0.00         1.09          1.36          64.0        tbd      T  \n",
       "1022      0.00         0.12          1.29          65.0        tbd      E  \n",
       "1153      0.00         0.10          1.16          80.0        tbd      E  \n",
       "1178      0.00         0.07          1.14          51.0        tbd      E  \n",
       "1224      0.00         0.23          1.10          76.0        tbd      T  \n",
       "1250      0.00         0.09          1.08          63.0        tbd      E  \n",
       "1251      0.00         0.11          1.08          60.0        tbd      E  \n",
       "1291      0.00         0.08          1.06          44.0        tbd      E  \n",
       "1312      0.00         0.10          1.05          60.0        tbd      E  \n",
       "1318      0.00         0.07          1.04          42.0        tbd      E  \n",
       "1347      0.00         0.11          1.02          54.0        tbd      E  \n",
       "1365      0.00         0.07          1.00          73.0        tbd      E  \n",
       "1372      0.00         0.04          1.00          71.0        tbd      E  "
      ]
     },
     "execution_count": 8,
     "metadata": {},
     "output_type": "execute_result"
    }
   ],
   "source": [
    "df[df['User_Score']=='tbd']"
   ]
  },
  {
   "cell_type": "code",
   "execution_count": 9,
   "id": "c253dd6e",
   "metadata": {},
   "outputs": [],
   "source": [
    "df = df[df['User_Score'] != 'tbd']"
   ]
  },
  {
   "cell_type": "code",
   "execution_count": 10,
   "id": "8fe9b369",
   "metadata": {},
   "outputs": [],
   "source": [
    "#Convert the Rank column to an index\n",
    "df.set_index('Rank', inplace=True)"
   ]
  },
  {
   "cell_type": "code",
   "execution_count": 11,
   "id": "3d769cc5",
   "metadata": {},
   "outputs": [],
   "source": [
    "#Create a new column called Total_Sales which is the sum of the sales in all regions\n",
    "df['Total_Sales'] = df['NA_ Sales'] + df['EU_Sales'] + df['JP_Sales'] + df['Other_Sales']"
   ]
  },
  {
   "cell_type": "code",
   "execution_count": 12,
   "id": "ab154f82",
   "metadata": {},
   "outputs": [
    {
     "data": {
      "text/html": [
       "<div>\n",
       "<style scoped>\n",
       "    .dataframe tbody tr th:only-of-type {\n",
       "        vertical-align: middle;\n",
       "    }\n",
       "\n",
       "    .dataframe tbody tr th {\n",
       "        vertical-align: top;\n",
       "    }\n",
       "\n",
       "    .dataframe thead th {\n",
       "        text-align: right;\n",
       "    }\n",
       "</style>\n",
       "<table border=\"1\" class=\"dataframe\">\n",
       "  <thead>\n",
       "    <tr style=\"text-align: right;\">\n",
       "      <th></th>\n",
       "      <th>Name</th>\n",
       "      <th>Platform</th>\n",
       "      <th>Year</th>\n",
       "      <th>Genre</th>\n",
       "      <th>Publisher</th>\n",
       "      <th>NA_ Sales</th>\n",
       "      <th>EU_Sales</th>\n",
       "      <th>JP_Sales</th>\n",
       "      <th>Other_Sales</th>\n",
       "      <th>Global_Sales</th>\n",
       "      <th>Critic_Score</th>\n",
       "      <th>User_Score</th>\n",
       "      <th>Rating</th>\n",
       "      <th>Total_Sales</th>\n",
       "    </tr>\n",
       "    <tr>\n",
       "      <th>Rank</th>\n",
       "      <th></th>\n",
       "      <th></th>\n",
       "      <th></th>\n",
       "      <th></th>\n",
       "      <th></th>\n",
       "      <th></th>\n",
       "      <th></th>\n",
       "      <th></th>\n",
       "      <th></th>\n",
       "      <th></th>\n",
       "      <th></th>\n",
       "      <th></th>\n",
       "      <th></th>\n",
       "      <th></th>\n",
       "    </tr>\n",
       "  </thead>\n",
       "  <tbody>\n",
       "    <tr>\n",
       "      <th>1</th>\n",
       "      <td>Wii Sports</td>\n",
       "      <td>Wii</td>\n",
       "      <td>2006</td>\n",
       "      <td>Sports</td>\n",
       "      <td>Nintendo</td>\n",
       "      <td>41.49</td>\n",
       "      <td>29.02</td>\n",
       "      <td>3.77</td>\n",
       "      <td>8.46</td>\n",
       "      <td>82.74</td>\n",
       "      <td>76.0</td>\n",
       "      <td>8</td>\n",
       "      <td>E</td>\n",
       "      <td>82.74</td>\n",
       "    </tr>\n",
       "    <tr>\n",
       "      <th>3</th>\n",
       "      <td>Mario Kart Wii</td>\n",
       "      <td>Wii</td>\n",
       "      <td>2008</td>\n",
       "      <td>Racing</td>\n",
       "      <td>Nintendo</td>\n",
       "      <td>15.85</td>\n",
       "      <td>12.88</td>\n",
       "      <td>3.79</td>\n",
       "      <td>3.31</td>\n",
       "      <td>35.82</td>\n",
       "      <td>82.0</td>\n",
       "      <td>8.3</td>\n",
       "      <td>E</td>\n",
       "      <td>35.83</td>\n",
       "    </tr>\n",
       "    <tr>\n",
       "      <th>4</th>\n",
       "      <td>Wii Sports Resort</td>\n",
       "      <td>Wii</td>\n",
       "      <td>2009</td>\n",
       "      <td>Sports</td>\n",
       "      <td>Nintendo</td>\n",
       "      <td>15.75</td>\n",
       "      <td>11.01</td>\n",
       "      <td>3.28</td>\n",
       "      <td>2.96</td>\n",
       "      <td>33.00</td>\n",
       "      <td>80.0</td>\n",
       "      <td>8</td>\n",
       "      <td>E</td>\n",
       "      <td>33.00</td>\n",
       "    </tr>\n",
       "    <tr>\n",
       "      <th>7</th>\n",
       "      <td>New Super Mario Bros.</td>\n",
       "      <td>DS</td>\n",
       "      <td>2006</td>\n",
       "      <td>Platform</td>\n",
       "      <td>Nintendo</td>\n",
       "      <td>11.38</td>\n",
       "      <td>9.23</td>\n",
       "      <td>6.50</td>\n",
       "      <td>2.90</td>\n",
       "      <td>30.01</td>\n",
       "      <td>89.0</td>\n",
       "      <td>8.5</td>\n",
       "      <td>E</td>\n",
       "      <td>30.01</td>\n",
       "    </tr>\n",
       "    <tr>\n",
       "      <th>8</th>\n",
       "      <td>Wii Play</td>\n",
       "      <td>Wii</td>\n",
       "      <td>2006</td>\n",
       "      <td>Misc</td>\n",
       "      <td>Nintendo</td>\n",
       "      <td>14.03</td>\n",
       "      <td>9.20</td>\n",
       "      <td>2.93</td>\n",
       "      <td>2.85</td>\n",
       "      <td>29.02</td>\n",
       "      <td>58.0</td>\n",
       "      <td>6.6</td>\n",
       "      <td>E</td>\n",
       "      <td>29.01</td>\n",
       "    </tr>\n",
       "  </tbody>\n",
       "</table>\n",
       "</div>"
      ],
      "text/plain": [
       "                       Name Platform  Year     Genre Publisher  NA_ Sales  \\\n",
       "Rank                                                                        \n",
       "1                Wii Sports      Wii  2006    Sports  Nintendo      41.49   \n",
       "3            Mario Kart Wii      Wii  2008    Racing  Nintendo      15.85   \n",
       "4         Wii Sports Resort      Wii  2009    Sports  Nintendo      15.75   \n",
       "7     New Super Mario Bros.       DS  2006  Platform  Nintendo      11.38   \n",
       "8                  Wii Play      Wii  2006      Misc  Nintendo      14.03   \n",
       "\n",
       "      EU_Sales  JP_Sales  Other_Sales  Global_Sales  Critic_Score User_Score  \\\n",
       "Rank                                                                           \n",
       "1        29.02      3.77         8.46         82.74          76.0          8   \n",
       "3        12.88      3.79         3.31         35.82          82.0        8.3   \n",
       "4        11.01      3.28         2.96         33.00          80.0          8   \n",
       "7         9.23      6.50         2.90         30.01          89.0        8.5   \n",
       "8         9.20      2.93         2.85         29.02          58.0        6.6   \n",
       "\n",
       "     Rating  Total_Sales  \n",
       "Rank                      \n",
       "1         E        82.74  \n",
       "3         E        35.83  \n",
       "4         E        33.00  \n",
       "7         E        30.01  \n",
       "8         E        29.01  "
      ]
     },
     "execution_count": 12,
     "metadata": {},
     "output_type": "execute_result"
    }
   ],
   "source": [
    "#Check out the appearance of data\n",
    "df.head()"
   ]
  },
  {
   "cell_type": "code",
   "execution_count": 13,
   "id": "dedc6802",
   "metadata": {},
   "outputs": [
    {
     "data": {
      "text/plain": [
       "Name             object\n",
       "Platform         object\n",
       "Year              int32\n",
       "Genre            object\n",
       "Publisher        object\n",
       "NA_ Sales       float64\n",
       "EU_Sales        float64\n",
       "JP_Sales        float64\n",
       "Other_Sales     float64\n",
       "Global_Sales    float64\n",
       "Critic_Score    float64\n",
       "User_Score       object\n",
       "Rating           object\n",
       "Total_Sales     float64\n",
       "dtype: object"
      ]
     },
     "execution_count": 13,
     "metadata": {},
     "output_type": "execute_result"
    }
   ],
   "source": [
    "df.dtypes"
   ]
  },
  {
   "cell_type": "code",
   "execution_count": 14,
   "id": "6aedda34",
   "metadata": {},
   "outputs": [],
   "source": [
    "df[\"User_Score\"] = df[\"User_Score\"].astype(float)"
   ]
  },
  {
   "cell_type": "code",
   "execution_count": 15,
   "id": "35556f1b",
   "metadata": {},
   "outputs": [
    {
     "data": {
      "text/plain": [
       "Name             object\n",
       "Platform         object\n",
       "Year              int32\n",
       "Genre            object\n",
       "Publisher        object\n",
       "NA_ Sales       float64\n",
       "EU_Sales        float64\n",
       "JP_Sales        float64\n",
       "Other_Sales     float64\n",
       "Global_Sales    float64\n",
       "Critic_Score    float64\n",
       "User_Score      float64\n",
       "Rating           object\n",
       "Total_Sales     float64\n",
       "dtype: object"
      ]
     },
     "execution_count": 15,
     "metadata": {},
     "output_type": "execute_result"
    }
   ],
   "source": [
    "df.dtypes"
   ]
  },
  {
   "cell_type": "code",
   "execution_count": 16,
   "id": "6d020737",
   "metadata": {},
   "outputs": [
    {
     "name": "stdout",
     "output_type": "stream",
     "text": [
      "<class 'pandas.core.frame.DataFrame'>\n",
      "Int64Index: 1351 entries, 1 to 2080\n",
      "Data columns (total 14 columns):\n",
      " #   Column        Non-Null Count  Dtype  \n",
      "---  ------        --------------  -----  \n",
      " 0   Name          1351 non-null   object \n",
      " 1   Platform      1351 non-null   object \n",
      " 2   Year          1351 non-null   int32  \n",
      " 3   Genre         1351 non-null   object \n",
      " 4   Publisher     1351 non-null   object \n",
      " 5   NA_ Sales     1351 non-null   float64\n",
      " 6   EU_Sales      1351 non-null   float64\n",
      " 7   JP_Sales      1351 non-null   float64\n",
      " 8   Other_Sales   1351 non-null   float64\n",
      " 9   Global_Sales  1351 non-null   float64\n",
      " 10  Critic_Score  1351 non-null   float64\n",
      " 11  User_Score    1351 non-null   float64\n",
      " 12  Rating        1350 non-null   object \n",
      " 13  Total_Sales   1351 non-null   float64\n",
      "dtypes: float64(8), int32(1), object(5)\n",
      "memory usage: 153.0+ KB\n"
     ]
    }
   ],
   "source": [
    "df.info()"
   ]
  },
  {
   "cell_type": "code",
   "execution_count": 17,
   "id": "e61c682b",
   "metadata": {},
   "outputs": [
    {
     "data": {
      "text/plain": [
       "(1351, 14)"
      ]
     },
     "execution_count": 17,
     "metadata": {},
     "output_type": "execute_result"
    }
   ],
   "source": [
    "df.shape"
   ]
  },
  {
   "cell_type": "code",
   "execution_count": 18,
   "id": "43d3a295",
   "metadata": {},
   "outputs": [],
   "source": [
    "df.to_csv('cleaned_data_videoGames.csv', index=False)"
   ]
  },
  {
   "cell_type": "markdown",
   "id": "641e922f",
   "metadata": {},
   "source": [
    "Now I can analyze the different sales of different platforms and their regional distribution. We can group the data by platform and sum the global_sales for each group. Then, we can sort the resulting dataframe by global_sales in descending order and select the top 5 platforms. Finally, we can plot a stacked bar chart to visualize the sales distribution of these platforms."
   ]
  },
  {
   "cell_type": "code",
   "execution_count": 18,
   "id": "9df4cf1b",
   "metadata": {},
   "outputs": [],
   "source": [
    "# group data by platform and sum global sales\n",
    "sales_by_platform = df.groupby('Platform')['Global_Sales'].sum()"
   ]
  },
  {
   "cell_type": "code",
   "execution_count": 19,
   "id": "15bf452c",
   "metadata": {},
   "outputs": [
    {
     "name": "stdout",
     "output_type": "stream",
     "text": [
      "Platform\n",
      "PS2     683.03\n",
      "X360    655.94\n",
      "PS3     605.86\n",
      "Wii     566.93\n",
      "DS      298.05\n",
      "Name: Global_Sales, dtype: float64\n"
     ]
    }
   ],
   "source": [
    "# sort data in descending order and take top 5 platforms\n",
    "top_platforms = sales_by_platform.sort_values(ascending=False).head(5)\n",
    "print(top_platforms)"
   ]
  },
  {
   "cell_type": "code",
   "execution_count": 20,
   "id": "2602de56",
   "metadata": {},
   "outputs": [
    {
     "data": {
      "image/png": "[encoded data removed]",
      "text/plain": [
       "<Figure size 720x432 with 1 Axes>"
      ]
     },
     "metadata": {
      "needs_background": "light"
     },
     "output_type": "display_data"
    }
   ],
   "source": [
    "# create a horizontal bar chart\n",
    "fig, ax = plt.subplots(figsize=(10, 6))\n",
    "ax.barh(top_platforms.index, top_platforms.values, align='center', color='tab:blue')\n",
    "\n",
    "# set labels and title\n",
    "ax.set_xlabel('Global Sales (millions of units)', fontsize=12)\n",
    "ax.set_ylabel('Platform', fontsize=12)\n",
    "ax.set_title('Top 5 Platforms by Global Sales', fontsize=14)\n",
    "\n",
    "plt.show()"
   ]
  },
  {
   "cell_type": "code",
   "execution_count": 21,
   "id": "f8db588d",
   "metadata": {},
   "outputs": [
    {
     "data": {
      "text/plain": [
       "array(['Wii', 'DS', 'X360', 'PS3', 'PS2', '3DS', 'PS4', 'XB', 'PC', 'PSP',\n",
       "       'GC', 'WiiU', 'GBA', 'PS', 'XOne', 'GB', 'N64', 'DC', 'PSV'],\n",
       "      dtype=object)"
      ]
     },
     "execution_count": 21,
     "metadata": {},
     "output_type": "execute_result"
    }
   ],
   "source": [
    "df['Platform'].unique()"
   ]
  },
  {
   "cell_type": "code",
   "execution_count": 22,
   "id": "0fdc85be",
   "metadata": {},
   "outputs": [],
   "source": [
    "#now I can try to see the relationship between genre and sales\n",
    "# group data by genre and sum global sales\n",
    "sales_by_genre = df.groupby('Genre')['Global_Sales'].sum()"
   ]
  },
  {
   "cell_type": "code",
   "execution_count": 23,
   "id": "c39783e5",
   "metadata": {},
   "outputs": [],
   "source": [
    "# sort data in descending order\n",
    "sales_by_genre = sales_by_genre.sort_values(ascending=False)"
   ]
  },
  {
   "cell_type": "code",
   "execution_count": 24,
   "id": "feb21490",
   "metadata": {},
   "outputs": [
    {
     "data": {
      "image/png": "[encoded data removed]",
      "text/plain": [
       "<Figure size 864x432 with 1 Axes>"
      ]
     },
     "metadata": {
      "needs_background": "light"
     },
     "output_type": "display_data"
    }
   ],
   "source": [
    "# create bar chart\n",
    "plt.figure(figsize=(12,6))\n",
    "plt.bar(sales_by_genre.index, sales_by_genre.values, color='blue')\n",
    "plt.xticks(rotation=90) #I was getting an overlap on the x-axis, this prevents the overlap\n",
    "plt.xlabel('Genre')\n",
    "plt.ylabel('Global Sales (millions)')\n",
    "plt.title('Total Global Sales by Genre')\n",
    "plt.show()"
   ]
  },
  {
   "cell_type": "code",
   "execution_count": 25,
   "id": "a00a960a",
   "metadata": {},
   "outputs": [],
   "source": [
    "# create a pivot table to calculate global sales by genre\n",
    "sales_by_genre = pd.pivot_table(df, values='Global_Sales', index='Genre', aggfunc=np.sum)"
   ]
  },
  {
   "cell_type": "code",
   "execution_count": 26,
   "id": "b0ecef1f",
   "metadata": {},
   "outputs": [
    {
     "data": {
      "image/png": "[encoded data removed]",
      "text/plain": [
       "<Figure size 432x288 with 2 Axes>"
      ]
     },
     "metadata": {
      "needs_background": "light"
     },
     "output_type": "display_data"
    }
   ],
   "source": [
    "sns.heatmap(sales_by_genre, cmap=\"YlGnBu\")\n",
    "plt.title('Global Sales by Genre')\n",
    "plt.show()"
   ]
  },
  {
   "cell_type": "code",
   "execution_count": 31,
   "id": "dc2b4a32",
   "metadata": {},
   "outputs": [],
   "source": [
    "#To do this i need to prepare the genre column into numerical values. I will use one-hot encoding and \n",
    "X = pd.get_dummies(df['Genre'], drop_first=True)\n",
    "y = df['Global_Sales']"
   ]
  },
  {
   "cell_type": "code",
   "execution_count": 33,
   "id": "3a2c42ff",
   "metadata": {},
   "outputs": [],
   "source": [
    "sales_threshold = 1_000_000  # Set the sales threshold at 1 million copies\n",
    "labels = np.where(df['Global_Sales'] >= sales_threshold, 1, 0)"
   ]
  },
  {
   "cell_type": "code",
   "execution_count": 38,
   "id": "6b840c1c",
   "metadata": {},
   "outputs": [
    {
     "data": {
      "text/plain": [
       "<seaborn.axisgrid.PairGrid at 0x2bfc81b57c0>"
      ]
     },
     "execution_count": 38,
     "metadata": {},
     "output_type": "execute_result"
    },
    {
     "data": {
      "image/png": "[encoded data removed]",
      "text/plain": [
       "<Figure size 422.75x360 with 1 Axes>"
      ]
     },
     "metadata": {
      "needs_background": "light"
     },
     "output_type": "display_data"
    }
   ],
   "source": [
    "#Now to see the relationship genre and sales\n",
    "# create a pairplot\n",
    "sns.pairplot(data=df, x_vars=['Genre'], y_vars=['Global_Sales'], hue='High_Sales', height=5)"
   ]
  },
  {
   "cell_type": "code",
   "execution_count": 48,
   "id": "aef6f146",
   "metadata": {},
   "outputs": [],
   "source": [
    "#I will take the top 5 genres and create a pairplot as the x axis is overlapping.\n",
    "top_genres = df.groupby('Genre').sum().sort_values(by='Global_Sales', ascending=False).head(5).index.tolist()\n",
    "df_top = df.loc[df['Genre'].isin(top_genres)]"
   ]
  },
  {
   "cell_type": "code",
   "execution_count": 49,
   "id": "8e094772",
   "metadata": {},
   "outputs": [
    {
     "data": {
      "text/plain": [
       "Text(0.5, 0.98, 'Top 5 Genres by Global Sales')"
      ]
     },
     "execution_count": 49,
     "metadata": {},
     "output_type": "execute_result"
    },
    {
     "data": {
      "image/png": "[encoded data removed]",
      "text/plain": [
       "<Figure size 540x360 with 1 Axes>"
      ]
     },
     "metadata": {},
     "output_type": "display_data"
    }
   ],
   "source": [
    "g = sns.pairplot(df_top, x_vars=['Genre'], y_vars=['Global_Sales'], height=5, aspect=1.5)\n",
    "g.fig.suptitle('Top 5 Genres by Global Sales', fontsize=16)"
   ]
  },
  {
   "cell_type": "code",
   "execution_count": 51,
   "id": "f360ca7e",
   "metadata": {},
   "outputs": [
    {
     "name": "stdout",
     "output_type": "stream",
     "text": [
      "Publisher\n",
      "Nintendo                       799.00\n",
      "Electronic Arts                624.00\n",
      "Activision                     417.92\n",
      "Take-Two Interactive           280.34\n",
      "Sony Computer Entertainment    250.17\n",
      "Name: Global_Sales, dtype: float64\n"
     ]
    }
   ],
   "source": [
    "#I would like to take a look at publishing company then finally move on to the relationship between user_scores/critic_scores \n",
    "#Publshing company will be the same as platform\n",
    "sales_by_publisher = df.groupby('Publisher')['Global_Sales'].sum()\n",
    "top_publisher = sales_by_publisher.sort_values(ascending=False).head(5)\n",
    "print(top_publisher)"
   ]
  },
  {
   "cell_type": "code",
   "execution_count": 52,
   "id": "1c9e07cc",
   "metadata": {},
   "outputs": [
    {
     "data": {
      "image/png": "[encoded data removed]",
      "text/plain": [
       "<Figure size 720x432 with 1 Axes>"
      ]
     },
     "metadata": {},
     "output_type": "display_data"
    }
   ],
   "source": [
    "# create a horizontal bar chart\n",
    "fig, ax = plt.subplots(figsize=(10, 6))\n",
    "ax.barh(top_publisher.index, top_publisher.values, align='center', color='tab:blue')\n",
    "\n",
    "# set labels and title\n",
    "ax.set_xlabel('Global Sales (millions of units)', fontsize=12)\n",
    "ax.set_ylabel('Publisher', fontsize=12)\n",
    "ax.set_title('Top 5 Publisher by Global Sales', fontsize=14)\n",
    "\n",
    "plt.show()"
   ]
  },
  {
   "cell_type": "code",
   "execution_count": 53,
   "id": "fd2d7a8c",
   "metadata": {},
   "outputs": [],
   "source": [
    "#finally we will be doing a linear regression model between the user/critic score and sales\n",
    "X = df[['User_Score', 'Critic_Score']]\n",
    "y = df['Global_Sales']"
   ]
  },
  {
   "cell_type": "code",
   "execution_count": 55,
   "id": "b03a57fd",
   "metadata": {},
   "outputs": [],
   "source": [
    "X_train, X_test, y_train, y_test = train_test_split(X, y, random_state=42)"
   ]
  },
  {
   "cell_type": "code",
   "execution_count": 58,
   "id": "b1773974",
   "metadata": {},
   "outputs": [
    {
     "data": {
      "text/plain": [
       "LinearRegression()"
      ]
     },
     "execution_count": 58,
     "metadata": {},
     "output_type": "execute_result"
    }
   ],
   "source": [
    "from sklearn.linear_model import LinearRegression\n",
    "model = LinearRegression()\n",
    "model.fit(X_train, y_train)"
   ]
  },
  {
   "cell_type": "code",
   "execution_count": 59,
   "id": "54c5a744",
   "metadata": {},
   "outputs": [
    {
     "name": "stdout",
     "output_type": "stream",
     "text": [
      "R-squared value: 0.06599682295585096\n"
     ]
    }
   ],
   "source": [
    "y_pred = model.predict(X_test)\n",
    "r2_score = model.score(X_test, y_test)\n",
    "\n",
    "print(\"R-squared value:\", r2_score)"
   ]
  },
  {
   "cell_type": "code",
   "execution_count": 61,
   "id": "7db35778",
   "metadata": {},
   "outputs": [
    {
     "data": {
      "image/png": "[encoded data removed]",
      "text/plain": [
       "<Figure size 432x288 with 1 Axes>"
      ]
     },
     "metadata": {},
     "output_type": "display_data"
    }
   ],
   "source": [
    "_ = plt.scatter(y_test, y_pred)\n",
    "_ = plt.xlabel('Actual scores')\n",
    "_ = plt.ylabel('Predicted scores')"
   ]
  },
  {
   "cell_type": "code",
   "execution_count": 65,
   "id": "6fbd0666",
   "metadata": {},
   "outputs": [
    {
     "data": {
      "image/png": "[encoded data removed]",
      "text/plain": [
       "<Figure size 432x288 with 1 Axes>"
      ]
     },
     "metadata": {},
     "output_type": "display_data"
    }
   ],
   "source": [
    "plt.scatter(X_test.values[:, 0], y_test.values, color='blue', label='Test Data')\n",
    "plt.scatter(X_train.values[:, 0], y_train.values, color='red', label='Training Data')\n",
    "plt.xlabel('User Score')\n",
    "plt.ylabel('Global Sales')\n",
    "plt.legend(loc='upper left')\n",
    "plt.show()"
   ]
  },
  {
   "cell_type": "markdown",
   "id": "89dd7e15",
   "metadata": {},
   "source": [
    "# Conclusion\n",
    "\n",
    "After exploring this data, we can infer that the best selling genres are Action, Shooter, Sports, Racing and Role-Playing. There is a relationship between the how high a videogame scores on both User/Critic Scores as this can directly help sales globally. The top 5 platforms at the time the data was presented was made by Xbox, Nintendo, and Sony for DS, Wii, PS2. Because of this, we know they have the higher chances of pushing sales for our company. The best publisher would be Nintendo as they have the highest earnings globally.\n"
   ]
  },
  {
   "cell_type": "code",
   "execution_count": null,
   "id": "b06d46c2",
   "metadata": {},
   "outputs": [],
   "source": []
  }
 ],
 "metadata": {
  "kernelspec": {
   "display_name": "Python 3 (ipykernel)",
   "language": "python",
   "name": "python3"
  },
  "language_info": {
   "codemirror_mode": {
    "name": "ipython",
    "version": 3
   },
   "file_extension": ".py",
   "mimetype": "text/x-python",
   "name": "python",
   "nbconvert_exporter": "python",
   "pygments_lexer": "ipython3",
   "version": "3.10.9"
  }
 },
 "nbformat": 4,
 "nbformat_minor": 5
}
